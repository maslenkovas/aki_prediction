{
 "cells": [
  {
   "cell_type": "code",
   "execution_count": 1,
   "metadata": {},
   "outputs": [],
   "source": [
    "import os\n",
    "import re\n",
    "import functools\n",
    "import numpy as np\n",
    "import pandas as pd\n",
    "import pickle5 as pickle"
   ]
  },
  {
   "cell_type": "code",
   "execution_count": 2,
   "metadata": {},
   "outputs": [],
   "source": [
    "# CURR_PATH = os.getcwd()\n",
    "CURR_PATH = '/home/svetlanamaslenkova/Documents/AKI_deep/LSTM'\n",
    "DATA_PATH = '/home/svetlanamaslenkova/Documents/data/physionet.org/files/mimiciv/2.0/'\n",
    "DF_PATH = CURR_PATH +'/dataframes_2/'\n",
    "# ED_PATH = DATA_PATH+'physionet.org/files/mimic-iv-ed/1.0/ed/'\n",
    "PKL_PATH = CURR_PATH+'/pickles_2/'\n",
    "DF_PATH = CURR_PATH+'/dataframes_2/'\n",
    "ICU_PATH = DATA_PATH + 'icu/'\n",
    "HOSP_PATH = DATA_PATH + 'hosp/'"
   ]
  },
  {
   "cell_type": "markdown",
   "metadata": {},
   "source": [
    "# Import"
   ]
  },
  {
   "cell_type": "code",
   "execution_count": 127,
   "metadata": {},
   "outputs": [
    {
     "data": {
      "text/html": [
       "<div>\n",
       "<style scoped>\n",
       "    .dataframe tbody tr th:only-of-type {\n",
       "        vertical-align: middle;\n",
       "    }\n",
       "\n",
       "    .dataframe tbody tr th {\n",
       "        vertical-align: top;\n",
       "    }\n",
       "\n",
       "    .dataframe thead th {\n",
       "        text-align: right;\n",
       "    }\n",
       "</style>\n",
       "<table border=\"1\" class=\"dataframe\">\n",
       "  <thead>\n",
       "    <tr style=\"text-align: right;\">\n",
       "      <th></th>\n",
       "      <th>subject_id</th>\n",
       "      <th>hadm_id</th>\n",
       "      <th>stay_id</th>\n",
       "      <th>specimen_id</th>\n",
       "      <th>day_id</th>\n",
       "      <th>icu_day_id</th>\n",
       "      <th>icu_12h_window_id</th>\n",
       "      <th>charttime</th>\n",
       "      <th>intime</th>\n",
       "      <th>AKI_1_scr</th>\n",
       "      <th>AKI_2_scr</th>\n",
       "      <th>AKI_3_scr</th>\n",
       "      <th>AKI_1_urine</th>\n",
       "      <th>AKI_2_urine</th>\n",
       "      <th>AKI_3_urine</th>\n",
       "      <th>AKI_1</th>\n",
       "      <th>AKI_2</th>\n",
       "      <th>AKI_3</th>\n",
       "      <th>ANY_AKI</th>\n",
       "      <th>NO_AKI</th>\n",
       "    </tr>\n",
       "  </thead>\n",
       "  <tbody>\n",
       "    <tr>\n",
       "      <th>0</th>\n",
       "      <td>16788749</td>\n",
       "      <td>20000808</td>\n",
       "      <td>30610654</td>\n",
       "      <td>63232011.0</td>\n",
       "      <td>5</td>\n",
       "      <td>0</td>\n",
       "      <td>0</td>\n",
       "      <td>2180-01-18 01:54:00</td>\n",
       "      <td>2180-01-17 19:32:10</td>\n",
       "      <td>0</td>\n",
       "      <td>0</td>\n",
       "      <td>0</td>\n",
       "      <td>0.0</td>\n",
       "      <td>0.0</td>\n",
       "      <td>0.0</td>\n",
       "      <td>0</td>\n",
       "      <td>0</td>\n",
       "      <td>0</td>\n",
       "      <td>0</td>\n",
       "      <td>1</td>\n",
       "    </tr>\n",
       "    <tr>\n",
       "      <th>1</th>\n",
       "      <td>16788749</td>\n",
       "      <td>20000808</td>\n",
       "      <td>30610654</td>\n",
       "      <td>72894600.0</td>\n",
       "      <td>6</td>\n",
       "      <td>1</td>\n",
       "      <td>2</td>\n",
       "      <td>2180-01-19 03:36:00</td>\n",
       "      <td>2180-01-17 19:32:10</td>\n",
       "      <td>0</td>\n",
       "      <td>0</td>\n",
       "      <td>0</td>\n",
       "      <td>1.0</td>\n",
       "      <td>0.0</td>\n",
       "      <td>0.0</td>\n",
       "      <td>1</td>\n",
       "      <td>0</td>\n",
       "      <td>0</td>\n",
       "      <td>1</td>\n",
       "      <td>0</td>\n",
       "    </tr>\n",
       "    <tr>\n",
       "      <th>2</th>\n",
       "      <td>16003661</td>\n",
       "      <td>20001305</td>\n",
       "      <td>36916968</td>\n",
       "      <td>90355490.0</td>\n",
       "      <td>0</td>\n",
       "      <td>0</td>\n",
       "      <td>0</td>\n",
       "      <td>2178-03-25 13:45:00</td>\n",
       "      <td>2178-03-25 02:59:09</td>\n",
       "      <td>0</td>\n",
       "      <td>0</td>\n",
       "      <td>0</td>\n",
       "      <td>1.0</td>\n",
       "      <td>1.0</td>\n",
       "      <td>1.0</td>\n",
       "      <td>0</td>\n",
       "      <td>0</td>\n",
       "      <td>1</td>\n",
       "      <td>1</td>\n",
       "      <td>0</td>\n",
       "    </tr>\n",
       "    <tr>\n",
       "      <th>3</th>\n",
       "      <td>16003661</td>\n",
       "      <td>20001305</td>\n",
       "      <td>36916968</td>\n",
       "      <td>92318652.0</td>\n",
       "      <td>1</td>\n",
       "      <td>1</td>\n",
       "      <td>3</td>\n",
       "      <td>2178-03-27 02:12:00</td>\n",
       "      <td>2178-03-25 02:59:09</td>\n",
       "      <td>1</td>\n",
       "      <td>0</td>\n",
       "      <td>0</td>\n",
       "      <td>1.0</td>\n",
       "      <td>1.0</td>\n",
       "      <td>1.0</td>\n",
       "      <td>0</td>\n",
       "      <td>0</td>\n",
       "      <td>1</td>\n",
       "      <td>1</td>\n",
       "      <td>0</td>\n",
       "    </tr>\n",
       "    <tr>\n",
       "      <th>4</th>\n",
       "      <td>14577567</td>\n",
       "      <td>20001361</td>\n",
       "      <td>33475095</td>\n",
       "      <td>96321141.0</td>\n",
       "      <td>0</td>\n",
       "      <td>0</td>\n",
       "      <td>0</td>\n",
       "      <td>2143-05-05 04:27:00</td>\n",
       "      <td>2143-05-04 16:52:00</td>\n",
       "      <td>1</td>\n",
       "      <td>0</td>\n",
       "      <td>0</td>\n",
       "      <td>0.0</td>\n",
       "      <td>0.0</td>\n",
       "      <td>0.0</td>\n",
       "      <td>1</td>\n",
       "      <td>0</td>\n",
       "      <td>0</td>\n",
       "      <td>1</td>\n",
       "      <td>0</td>\n",
       "    </tr>\n",
       "  </tbody>\n",
       "</table>\n",
       "</div>"
      ],
      "text/plain": [
       "   subject_id   hadm_id   stay_id  specimen_id  day_id  icu_day_id  \\\n",
       "0    16788749  20000808  30610654   63232011.0       5           0   \n",
       "1    16788749  20000808  30610654   72894600.0       6           1   \n",
       "2    16003661  20001305  36916968   90355490.0       0           0   \n",
       "3    16003661  20001305  36916968   92318652.0       1           1   \n",
       "4    14577567  20001361  33475095   96321141.0       0           0   \n",
       "\n",
       "   icu_12h_window_id           charttime              intime  AKI_1_scr  \\\n",
       "0                  0 2180-01-18 01:54:00 2180-01-17 19:32:10          0   \n",
       "1                  2 2180-01-19 03:36:00 2180-01-17 19:32:10          0   \n",
       "2                  0 2178-03-25 13:45:00 2178-03-25 02:59:09          0   \n",
       "3                  3 2178-03-27 02:12:00 2178-03-25 02:59:09          1   \n",
       "4                  0 2143-05-05 04:27:00 2143-05-04 16:52:00          1   \n",
       "\n",
       "   AKI_2_scr  AKI_3_scr  AKI_1_urine  AKI_2_urine  AKI_3_urine  AKI_1  AKI_2  \\\n",
       "0          0          0          0.0          0.0          0.0      0      0   \n",
       "1          0          0          1.0          0.0          0.0      1      0   \n",
       "2          0          0          1.0          1.0          1.0      0      0   \n",
       "3          0          0          1.0          1.0          1.0      0      0   \n",
       "4          0          0          0.0          0.0          0.0      1      0   \n",
       "\n",
       "   AKI_3  ANY_AKI  NO_AKI  \n",
       "0      0        0       1  \n",
       "1      0        1       0  \n",
       "2      1        1       0  \n",
       "3      1        1       0  \n",
       "4      0        1       0  "
      ]
     },
     "execution_count": 127,
     "metadata": {},
     "output_type": "execute_result"
    }
   ],
   "source": [
    "with open(PKL_PATH + 'aki_stage_labels.pkl', 'rb') as f:\n",
    "    aki_stage_labels = pickle.load(f)\n",
    "aki_stage_labels.head()   "
   ]
  },
  {
   "cell_type": "code",
   "execution_count": 66,
   "metadata": {},
   "outputs": [
    {
     "data": {
      "text/html": [
       "<div>\n",
       "<style scoped>\n",
       "    .dataframe tbody tr th:only-of-type {\n",
       "        vertical-align: middle;\n",
       "    }\n",
       "\n",
       "    .dataframe tbody tr th {\n",
       "        vertical-align: top;\n",
       "    }\n",
       "\n",
       "    .dataframe thead th {\n",
       "        text-align: right;\n",
       "    }\n",
       "</style>\n",
       "<table border=\"1\" class=\"dataframe\">\n",
       "  <thead>\n",
       "    <tr style=\"text-align: right;\">\n",
       "      <th></th>\n",
       "      <th>subject_id</th>\n",
       "      <th>hadm_id</th>\n",
       "      <th>stay_id</th>\n",
       "      <th>AKI_1</th>\n",
       "      <th>AKI_2</th>\n",
       "      <th>AKI_3</th>\n",
       "      <th>ANY_AKI</th>\n",
       "      <th>NO_AKI</th>\n",
       "    </tr>\n",
       "  </thead>\n",
       "  <tbody>\n",
       "    <tr>\n",
       "      <th>0</th>\n",
       "      <td>18421337</td>\n",
       "      <td>22413411</td>\n",
       "      <td>30000484</td>\n",
       "      <td>0</td>\n",
       "      <td>0</td>\n",
       "      <td>0</td>\n",
       "      <td>0</td>\n",
       "      <td>1</td>\n",
       "    </tr>\n",
       "    <tr>\n",
       "      <th>1</th>\n",
       "      <td>12168737</td>\n",
       "      <td>29283664</td>\n",
       "      <td>30001336</td>\n",
       "      <td>0</td>\n",
       "      <td>0</td>\n",
       "      <td>0</td>\n",
       "      <td>0</td>\n",
       "      <td>1</td>\n",
       "    </tr>\n",
       "    <tr>\n",
       "      <th>2</th>\n",
       "      <td>34923988</td>\n",
       "      <td>59074770</td>\n",
       "      <td>30001471</td>\n",
       "      <td>0</td>\n",
       "      <td>0</td>\n",
       "      <td>0</td>\n",
       "      <td>0</td>\n",
       "      <td>1</td>\n",
       "    </tr>\n",
       "    <tr>\n",
       "      <th>3</th>\n",
       "      <td>13269859</td>\n",
       "      <td>26734917</td>\n",
       "      <td>30002521</td>\n",
       "      <td>0</td>\n",
       "      <td>0</td>\n",
       "      <td>0</td>\n",
       "      <td>0</td>\n",
       "      <td>1</td>\n",
       "    </tr>\n",
       "    <tr>\n",
       "      <th>4</th>\n",
       "      <td>15978672</td>\n",
       "      <td>26652960</td>\n",
       "      <td>30002654</td>\n",
       "      <td>1</td>\n",
       "      <td>0</td>\n",
       "      <td>0</td>\n",
       "      <td>1</td>\n",
       "      <td>0</td>\n",
       "    </tr>\n",
       "    <tr>\n",
       "      <th>...</th>\n",
       "      <td>...</td>\n",
       "      <td>...</td>\n",
       "      <td>...</td>\n",
       "      <td>...</td>\n",
       "      <td>...</td>\n",
       "      <td>...</td>\n",
       "      <td>...</td>\n",
       "      <td>...</td>\n",
       "    </tr>\n",
       "    <tr>\n",
       "      <th>33801</th>\n",
       "      <td>38093900</td>\n",
       "      <td>48704302</td>\n",
       "      <td>39998622</td>\n",
       "      <td>0</td>\n",
       "      <td>1</td>\n",
       "      <td>0</td>\n",
       "      <td>1</td>\n",
       "      <td>0</td>\n",
       "    </tr>\n",
       "    <tr>\n",
       "      <th>33802</th>\n",
       "      <td>15669140</td>\n",
       "      <td>29818488</td>\n",
       "      <td>39999172</td>\n",
       "      <td>0</td>\n",
       "      <td>0</td>\n",
       "      <td>0</td>\n",
       "      <td>0</td>\n",
       "      <td>1</td>\n",
       "    </tr>\n",
       "    <tr>\n",
       "      <th>33803</th>\n",
       "      <td>13651601</td>\n",
       "      <td>22584645</td>\n",
       "      <td>39999230</td>\n",
       "      <td>0</td>\n",
       "      <td>1</td>\n",
       "      <td>0</td>\n",
       "      <td>1</td>\n",
       "      <td>0</td>\n",
       "    </tr>\n",
       "    <tr>\n",
       "      <th>33804</th>\n",
       "      <td>15403458</td>\n",
       "      <td>25335698</td>\n",
       "      <td>39999562</td>\n",
       "      <td>0</td>\n",
       "      <td>0</td>\n",
       "      <td>0</td>\n",
       "      <td>0</td>\n",
       "      <td>1</td>\n",
       "    </tr>\n",
       "    <tr>\n",
       "      <th>33805</th>\n",
       "      <td>17840864</td>\n",
       "      <td>22695803</td>\n",
       "      <td>39999810</td>\n",
       "      <td>0</td>\n",
       "      <td>0</td>\n",
       "      <td>0</td>\n",
       "      <td>0</td>\n",
       "      <td>1</td>\n",
       "    </tr>\n",
       "  </tbody>\n",
       "</table>\n",
       "<p>33806 rows × 8 columns</p>\n",
       "</div>"
      ],
      "text/plain": [
       "       subject_id   hadm_id   stay_id  AKI_1  AKI_2  AKI_3  ANY_AKI  NO_AKI\n",
       "0        18421337  22413411  30000484      0      0      0        0       1\n",
       "1        12168737  29283664  30001336      0      0      0        0       1\n",
       "2        34923988  59074770  30001471      0      0      0        0       1\n",
       "3        13269859  26734917  30002521      0      0      0        0       1\n",
       "4        15978672  26652960  30002654      1      0      0        1       0\n",
       "...           ...       ...       ...    ...    ...    ...      ...     ...\n",
       "33801    38093900  48704302  39998622      0      1      0        1       0\n",
       "33802    15669140  29818488  39999172      0      0      0        0       1\n",
       "33803    13651601  22584645  39999230      0      1      0        1       0\n",
       "33804    15403458  25335698  39999562      0      0      0        0       1\n",
       "33805    17840864  22695803  39999810      0      0      0        0       1\n",
       "\n",
       "[33806 rows x 8 columns]"
      ]
     },
     "execution_count": 66,
     "metadata": {},
     "output_type": "execute_result"
    }
   ],
   "source": [
    "with open(PKL_PATH + 'aki_stage_labels_second_day.pkl', 'rb') as f:\n",
    "    aki_stage_labels_second_day = pickle.load(f)\n",
    "aki_stage_labels_second_day"
   ]
  },
  {
   "cell_type": "code",
   "execution_count": 57,
   "metadata": {},
   "outputs": [
    {
     "name": "stdout",
     "output_type": "stream",
     "text": [
      "unique stays:  39293\n"
     ]
    },
    {
     "data": {
      "text/html": [
       "<div>\n",
       "<style scoped>\n",
       "    .dataframe tbody tr th:only-of-type {\n",
       "        vertical-align: middle;\n",
       "    }\n",
       "\n",
       "    .dataframe tbody tr th {\n",
       "        vertical-align: top;\n",
       "    }\n",
       "\n",
       "    .dataframe thead th {\n",
       "        text-align: right;\n",
       "    }\n",
       "</style>\n",
       "<table border=\"1\" class=\"dataframe\">\n",
       "  <thead>\n",
       "    <tr style=\"text-align: right;\">\n",
       "      <th></th>\n",
       "      <th>subject_id</th>\n",
       "      <th>hadm_id</th>\n",
       "      <th>admittime</th>\n",
       "      <th>dischtime</th>\n",
       "      <th>race</th>\n",
       "      <th>gender</th>\n",
       "      <th>age</th>\n",
       "      <th>stay_id</th>\n",
       "      <th>name_result_value</th>\n",
       "      <th>demographics</th>\n",
       "    </tr>\n",
       "  </thead>\n",
       "  <tbody>\n",
       "    <tr>\n",
       "      <th>0</th>\n",
       "      <td>10000032</td>\n",
       "      <td>22595853.0</td>\n",
       "      <td>2180-05-06 22:23:00</td>\n",
       "      <td>2180-05-07 17:15:00</td>\n",
       "      <td>WHITE</td>\n",
       "      <td>F</td>\n",
       "      <td>52</td>\n",
       "      <td>NaN</td>\n",
       "      <td>NaN</td>\n",
       "      <td>WHITE F {52}</td>\n",
       "    </tr>\n",
       "    <tr>\n",
       "      <th>1</th>\n",
       "      <td>10000032</td>\n",
       "      <td>22841357.0</td>\n",
       "      <td>2180-06-26 18:27:00</td>\n",
       "      <td>2180-06-27 18:49:00</td>\n",
       "      <td>WHITE</td>\n",
       "      <td>F</td>\n",
       "      <td>52</td>\n",
       "      <td>NaN</td>\n",
       "      <td>NaN</td>\n",
       "      <td>WHITE F {52}</td>\n",
       "    </tr>\n",
       "    <tr>\n",
       "      <th>2</th>\n",
       "      <td>10000032</td>\n",
       "      <td>25742920.0</td>\n",
       "      <td>2180-08-05 23:44:00</td>\n",
       "      <td>2180-08-07 17:50:00</td>\n",
       "      <td>WHITE</td>\n",
       "      <td>F</td>\n",
       "      <td>52</td>\n",
       "      <td>NaN</td>\n",
       "      <td>NaN</td>\n",
       "      <td>WHITE F {52}</td>\n",
       "    </tr>\n",
       "    <tr>\n",
       "      <th>3</th>\n",
       "      <td>10000032</td>\n",
       "      <td>29079034.0</td>\n",
       "      <td>2180-07-23 12:35:00</td>\n",
       "      <td>2180-07-25 17:55:00</td>\n",
       "      <td>WHITE</td>\n",
       "      <td>F</td>\n",
       "      <td>52</td>\n",
       "      <td>39553978.0</td>\n",
       "      <td>Height  {60}  Blood Pressure {98/66}  BMI  {18...</td>\n",
       "      <td>WHITE F {52} Height  {60}  Blood Pressure {98/...</td>\n",
       "    </tr>\n",
       "    <tr>\n",
       "      <th>4</th>\n",
       "      <td>10000068</td>\n",
       "      <td>25022803.0</td>\n",
       "      <td>2160-03-03 23:16:00</td>\n",
       "      <td>2160-03-04 06:26:00</td>\n",
       "      <td>WHITE</td>\n",
       "      <td>F</td>\n",
       "      <td>19</td>\n",
       "      <td>NaN</td>\n",
       "      <td>NaN</td>\n",
       "      <td>WHITE F {19}</td>\n",
       "    </tr>\n",
       "  </tbody>\n",
       "</table>\n",
       "</div>"
      ],
      "text/plain": [
       "   subject_id     hadm_id           admittime           dischtime   race  \\\n",
       "0    10000032  22595853.0 2180-05-06 22:23:00 2180-05-07 17:15:00  WHITE   \n",
       "1    10000032  22841357.0 2180-06-26 18:27:00 2180-06-27 18:49:00  WHITE   \n",
       "2    10000032  25742920.0 2180-08-05 23:44:00 2180-08-07 17:50:00  WHITE   \n",
       "3    10000032  29079034.0 2180-07-23 12:35:00 2180-07-25 17:55:00  WHITE   \n",
       "4    10000068  25022803.0 2160-03-03 23:16:00 2160-03-04 06:26:00  WHITE   \n",
       "\n",
       "  gender age     stay_id                                  name_result_value  \\\n",
       "0      F  52         NaN                                                NaN   \n",
       "1      F  52         NaN                                                NaN   \n",
       "2      F  52         NaN                                                NaN   \n",
       "3      F  52  39553978.0  Height  {60}  Blood Pressure {98/66}  BMI  {18...   \n",
       "4      F  19         NaN                                                NaN   \n",
       "\n",
       "                                        demographics  \n",
       "0                                      WHITE F {52}   \n",
       "1                                      WHITE F {52}   \n",
       "2                                      WHITE F {52}   \n",
       "3  WHITE F {52} Height  {60}  Blood Pressure {98/...  \n",
       "4                                      WHITE F {19}   "
      ]
     },
     "execution_count": 57,
     "metadata": {},
     "output_type": "execute_result"
    }
   ],
   "source": [
    "with open(PKL_PATH + 'pid_demographics_icu.pkl', 'rb') as f:\n",
    "    pid_demographics_icu =  pickle.load(f)\n",
    "print('unique stays: ', pid_demographics_icu.stay_id.unique().shape[0])\n",
    "pid_demographics_icu.head()"
   ]
  },
  {
   "cell_type": "code",
   "execution_count": 21,
   "metadata": {},
   "outputs": [],
   "source": [
    "with open(PKL_PATH + 'chartevents_creatinine.pkl', 'rb') as f:\n",
    "    chartevents_creatinine = pickle.load(f)"
   ]
  },
  {
   "cell_type": "code",
   "execution_count": 27,
   "metadata": {},
   "outputs": [
    {
     "data": {
      "text/html": [
       "<div>\n",
       "<style scoped>\n",
       "    .dataframe tbody tr th:only-of-type {\n",
       "        vertical-align: middle;\n",
       "    }\n",
       "\n",
       "    .dataframe tbody tr th {\n",
       "        vertical-align: top;\n",
       "    }\n",
       "\n",
       "    .dataframe thead th {\n",
       "        text-align: right;\n",
       "    }\n",
       "</style>\n",
       "<table border=\"1\" class=\"dataframe\">\n",
       "  <thead>\n",
       "    <tr style=\"text-align: right;\">\n",
       "      <th></th>\n",
       "      <th>subject_id</th>\n",
       "      <th>hadm_id</th>\n",
       "      <th>stay_id</th>\n",
       "      <th>first_careunit</th>\n",
       "      <th>last_careunit</th>\n",
       "      <th>intime</th>\n",
       "      <th>outtime</th>\n",
       "      <th>los</th>\n",
       "    </tr>\n",
       "  </thead>\n",
       "  <tbody>\n",
       "    <tr>\n",
       "      <th>0</th>\n",
       "      <td>10000032</td>\n",
       "      <td>29079034</td>\n",
       "      <td>39553978</td>\n",
       "      <td>Medical Intensive Care Unit (MICU)</td>\n",
       "      <td>Medical Intensive Care Unit (MICU)</td>\n",
       "      <td>2180-07-23 14:00:00</td>\n",
       "      <td>2180-07-23 23:50:47</td>\n",
       "      <td>0.410266</td>\n",
       "    </tr>\n",
       "    <tr>\n",
       "      <th>1</th>\n",
       "      <td>10000980</td>\n",
       "      <td>26913865</td>\n",
       "      <td>39765666</td>\n",
       "      <td>Medical Intensive Care Unit (MICU)</td>\n",
       "      <td>Medical Intensive Care Unit (MICU)</td>\n",
       "      <td>2189-06-27 08:42:00</td>\n",
       "      <td>2189-06-27 20:38:27</td>\n",
       "      <td>0.497535</td>\n",
       "    </tr>\n",
       "    <tr>\n",
       "      <th>2</th>\n",
       "      <td>10001217</td>\n",
       "      <td>24597018</td>\n",
       "      <td>37067082</td>\n",
       "      <td>Surgical Intensive Care Unit (SICU)</td>\n",
       "      <td>Surgical Intensive Care Unit (SICU)</td>\n",
       "      <td>2157-11-20 19:18:02</td>\n",
       "      <td>2157-11-21 22:08:00</td>\n",
       "      <td>1.118032</td>\n",
       "    </tr>\n",
       "    <tr>\n",
       "      <th>3</th>\n",
       "      <td>10001217</td>\n",
       "      <td>27703517</td>\n",
       "      <td>34592300</td>\n",
       "      <td>Surgical Intensive Care Unit (SICU)</td>\n",
       "      <td>Surgical Intensive Care Unit (SICU)</td>\n",
       "      <td>2157-12-19 15:42:24</td>\n",
       "      <td>2157-12-20 14:27:41</td>\n",
       "      <td>0.948113</td>\n",
       "    </tr>\n",
       "    <tr>\n",
       "      <th>4</th>\n",
       "      <td>10001725</td>\n",
       "      <td>25563031</td>\n",
       "      <td>31205490</td>\n",
       "      <td>Medical/Surgical Intensive Care Unit (MICU/SICU)</td>\n",
       "      <td>Medical/Surgical Intensive Care Unit (MICU/SICU)</td>\n",
       "      <td>2110-04-11 15:52:22</td>\n",
       "      <td>2110-04-12 23:59:56</td>\n",
       "      <td>1.338588</td>\n",
       "    </tr>\n",
       "  </tbody>\n",
       "</table>\n",
       "</div>"
      ],
      "text/plain": [
       "   subject_id   hadm_id   stay_id  \\\n",
       "0    10000032  29079034  39553978   \n",
       "1    10000980  26913865  39765666   \n",
       "2    10001217  24597018  37067082   \n",
       "3    10001217  27703517  34592300   \n",
       "4    10001725  25563031  31205490   \n",
       "\n",
       "                                     first_careunit  \\\n",
       "0                Medical Intensive Care Unit (MICU)   \n",
       "1                Medical Intensive Care Unit (MICU)   \n",
       "2               Surgical Intensive Care Unit (SICU)   \n",
       "3               Surgical Intensive Care Unit (SICU)   \n",
       "4  Medical/Surgical Intensive Care Unit (MICU/SICU)   \n",
       "\n",
       "                                      last_careunit               intime  \\\n",
       "0                Medical Intensive Care Unit (MICU)  2180-07-23 14:00:00   \n",
       "1                Medical Intensive Care Unit (MICU)  2189-06-27 08:42:00   \n",
       "2               Surgical Intensive Care Unit (SICU)  2157-11-20 19:18:02   \n",
       "3               Surgical Intensive Care Unit (SICU)  2157-12-19 15:42:24   \n",
       "4  Medical/Surgical Intensive Care Unit (MICU/SICU)  2110-04-11 15:52:22   \n",
       "\n",
       "               outtime       los  \n",
       "0  2180-07-23 23:50:47  0.410266  \n",
       "1  2189-06-27 20:38:27  0.497535  \n",
       "2  2157-11-21 22:08:00  1.118032  \n",
       "3  2157-12-20 14:27:41  0.948113  \n",
       "4  2110-04-12 23:59:56  1.338588  "
      ]
     },
     "execution_count": 27,
     "metadata": {},
     "output_type": "execute_result"
    }
   ],
   "source": [
    "import pandas as pd\n",
    "\n",
    "data_icustays = pd.read_csv(ICU_PATH + 'icustays.csv')\n",
    "\n",
    "data_icustays.columns = data_icustays.columns.str.lower()\n",
    "\n",
    "data_icustays.head()"
   ]
  },
  {
   "cell_type": "code",
   "execution_count": 28,
   "metadata": {},
   "outputs": [],
   "source": [
    "data_icustays['hadm_id'] = data_icustays['hadm_id'].astype(int)\n",
    "# change charttime column to datettime type\n",
    "format_ = '%Y-%m-%d %H:%M:%S'\n",
    "data_icustays['intime'] = pd.to_datetime(data_icustays['intime'], format=format_)\n",
    "data_icustays['outtime'] = pd.to_datetime(data_icustays['outtime'], format=format_)"
   ]
  },
  {
   "cell_type": "code",
   "execution_count": 29,
   "metadata": {},
   "outputs": [
    {
     "data": {
      "text/html": [
       "<div>\n",
       "<style scoped>\n",
       "    .dataframe tbody tr th:only-of-type {\n",
       "        vertical-align: middle;\n",
       "    }\n",
       "\n",
       "    .dataframe tbody tr th {\n",
       "        vertical-align: top;\n",
       "    }\n",
       "\n",
       "    .dataframe thead th {\n",
       "        text-align: right;\n",
       "    }\n",
       "</style>\n",
       "<table border=\"1\" class=\"dataframe\">\n",
       "  <thead>\n",
       "    <tr style=\"text-align: right;\">\n",
       "      <th></th>\n",
       "      <th>subject_id</th>\n",
       "      <th>gender</th>\n",
       "      <th>anchor_age</th>\n",
       "      <th>anchor_year</th>\n",
       "      <th>anchor_year_group</th>\n",
       "      <th>dod</th>\n",
       "    </tr>\n",
       "  </thead>\n",
       "  <tbody>\n",
       "    <tr>\n",
       "      <th>0</th>\n",
       "      <td>10000032</td>\n",
       "      <td>F</td>\n",
       "      <td>52</td>\n",
       "      <td>2180</td>\n",
       "      <td>2014 - 2016</td>\n",
       "      <td>2180-09-09</td>\n",
       "    </tr>\n",
       "    <tr>\n",
       "      <th>1</th>\n",
       "      <td>10000048</td>\n",
       "      <td>F</td>\n",
       "      <td>23</td>\n",
       "      <td>2126</td>\n",
       "      <td>2008 - 2010</td>\n",
       "      <td>NaN</td>\n",
       "    </tr>\n",
       "    <tr>\n",
       "      <th>2</th>\n",
       "      <td>10000068</td>\n",
       "      <td>F</td>\n",
       "      <td>19</td>\n",
       "      <td>2160</td>\n",
       "      <td>2008 - 2010</td>\n",
       "      <td>NaN</td>\n",
       "    </tr>\n",
       "    <tr>\n",
       "      <th>3</th>\n",
       "      <td>10000084</td>\n",
       "      <td>M</td>\n",
       "      <td>72</td>\n",
       "      <td>2160</td>\n",
       "      <td>2017 - 2019</td>\n",
       "      <td>2161-02-13</td>\n",
       "    </tr>\n",
       "    <tr>\n",
       "      <th>4</th>\n",
       "      <td>10000102</td>\n",
       "      <td>F</td>\n",
       "      <td>27</td>\n",
       "      <td>2136</td>\n",
       "      <td>2008 - 2010</td>\n",
       "      <td>NaN</td>\n",
       "    </tr>\n",
       "  </tbody>\n",
       "</table>\n",
       "</div>"
      ],
      "text/plain": [
       "   subject_id gender  anchor_age  anchor_year anchor_year_group         dod\n",
       "0    10000032      F          52         2180       2014 - 2016  2180-09-09\n",
       "1    10000048      F          23         2126       2008 - 2010         NaN\n",
       "2    10000068      F          19         2160       2008 - 2010         NaN\n",
       "3    10000084      M          72         2160       2017 - 2019  2161-02-13\n",
       "4    10000102      F          27         2136       2008 - 2010         NaN"
      ]
     },
     "execution_count": 29,
     "metadata": {},
     "output_type": "execute_result"
    }
   ],
   "source": [
    "import pandas as pd\n",
    "\n",
    "data_patients = pd.read_csv(HOSP_PATH+'patients.csv')\n",
    "\n",
    "data_patients.columns = data_patients.columns.str.lower()\n",
    "\n",
    "data_patients.head(5)"
   ]
  },
  {
   "cell_type": "code",
   "execution_count": 104,
   "metadata": {},
   "outputs": [
    {
     "data": {
      "text/html": [
       "<div>\n",
       "<style scoped>\n",
       "    .dataframe tbody tr th:only-of-type {\n",
       "        vertical-align: middle;\n",
       "    }\n",
       "\n",
       "    .dataframe tbody tr th {\n",
       "        vertical-align: top;\n",
       "    }\n",
       "\n",
       "    .dataframe thead th {\n",
       "        text-align: right;\n",
       "    }\n",
       "</style>\n",
       "<table border=\"1\" class=\"dataframe\">\n",
       "  <thead>\n",
       "    <tr style=\"text-align: right;\">\n",
       "      <th></th>\n",
       "      <th>subject_id</th>\n",
       "      <th>hadm_id</th>\n",
       "      <th>admittime</th>\n",
       "      <th>dischtime</th>\n",
       "      <th>deathtime</th>\n",
       "      <th>admission_type</th>\n",
       "      <th>admission_location</th>\n",
       "      <th>discharge_location</th>\n",
       "      <th>insurance</th>\n",
       "      <th>language</th>\n",
       "      <th>marital_status</th>\n",
       "      <th>race</th>\n",
       "      <th>edregtime</th>\n",
       "      <th>edouttime</th>\n",
       "      <th>hospital_expire_flag</th>\n",
       "    </tr>\n",
       "  </thead>\n",
       "  <tbody>\n",
       "    <tr>\n",
       "      <th>0</th>\n",
       "      <td>10000032</td>\n",
       "      <td>22595853</td>\n",
       "      <td>2180-05-06 22:23:00</td>\n",
       "      <td>2180-05-07 17:15:00</td>\n",
       "      <td>NaN</td>\n",
       "      <td>URGENT</td>\n",
       "      <td>TRANSFER FROM HOSPITAL</td>\n",
       "      <td>HOME</td>\n",
       "      <td>Other</td>\n",
       "      <td>ENGLISH</td>\n",
       "      <td>WIDOWED</td>\n",
       "      <td>WHITE</td>\n",
       "      <td>2180-05-06 19:17:00</td>\n",
       "      <td>2180-05-06 23:30:00</td>\n",
       "      <td>0</td>\n",
       "    </tr>\n",
       "    <tr>\n",
       "      <th>1</th>\n",
       "      <td>10000032</td>\n",
       "      <td>22841357</td>\n",
       "      <td>2180-06-26 18:27:00</td>\n",
       "      <td>2180-06-27 18:49:00</td>\n",
       "      <td>NaN</td>\n",
       "      <td>EW EMER.</td>\n",
       "      <td>EMERGENCY ROOM</td>\n",
       "      <td>HOME</td>\n",
       "      <td>Medicaid</td>\n",
       "      <td>ENGLISH</td>\n",
       "      <td>WIDOWED</td>\n",
       "      <td>WHITE</td>\n",
       "      <td>2180-06-26 15:54:00</td>\n",
       "      <td>2180-06-26 21:31:00</td>\n",
       "      <td>0</td>\n",
       "    </tr>\n",
       "  </tbody>\n",
       "</table>\n",
       "</div>"
      ],
      "text/plain": [
       "   subject_id   hadm_id            admittime            dischtime deathtime  \\\n",
       "0    10000032  22595853  2180-05-06 22:23:00  2180-05-07 17:15:00       NaN   \n",
       "1    10000032  22841357  2180-06-26 18:27:00  2180-06-27 18:49:00       NaN   \n",
       "\n",
       "  admission_type      admission_location discharge_location insurance  \\\n",
       "0         URGENT  TRANSFER FROM HOSPITAL               HOME     Other   \n",
       "1       EW EMER.          EMERGENCY ROOM               HOME  Medicaid   \n",
       "\n",
       "  language marital_status   race            edregtime            edouttime  \\\n",
       "0  ENGLISH        WIDOWED  WHITE  2180-05-06 19:17:00  2180-05-06 23:30:00   \n",
       "1  ENGLISH        WIDOWED  WHITE  2180-06-26 15:54:00  2180-06-26 21:31:00   \n",
       "\n",
       "   hospital_expire_flag  \n",
       "0                     0  \n",
       "1                     0  "
      ]
     },
     "execution_count": 104,
     "metadata": {},
     "output_type": "execute_result"
    }
   ],
   "source": [
    "import pandas as pd\n",
    "\n",
    "data_admissions = pd.read_csv(HOSP_PATH+'admissions.csv')\n",
    "\n",
    "data_admissions.columns = data_admissions.columns.str.lower()\n",
    "\n",
    "data_admissions.head(2)"
   ]
  },
  {
   "cell_type": "code",
   "execution_count": 105,
   "metadata": {},
   "outputs": [],
   "source": [
    "data_admissions['hadm_id'] = data_admissions['hadm_id'].astype(int)\n",
    "# change charttime column to datettime type\n",
    "format_ = '%Y-%m-%d %H:%M:%S'\n",
    "# data_vitals['charttime'] = pd.to_datetime(data_vitals['charttime'], format=format_)\n",
    "data_admissions['admittime'] = pd.to_datetime(data_admissions['admittime'], format=format_)\n",
    "data_admissions['dischtime'] = pd.to_datetime(data_admissions['dischtime'], format=format_)"
   ]
  },
  {
   "cell_type": "markdown",
   "metadata": {},
   "source": [
    "# Whole cohort"
   ]
  },
  {
   "cell_type": "code",
   "execution_count": 107,
   "metadata": {},
   "outputs": [
    {
     "name": "stdout",
     "output_type": "stream",
     "text": [
      "n of unique patients:  53569\n",
      "n of unique admissions:  69639\n",
      "n of unique ICU stays: :  76943\n"
     ]
    }
   ],
   "source": [
    "print('n of unique patients: ', (data_icustays.subject_id.unique().shape[0]))\n",
    "print('n of unique admissions: ', (data_icustays.hadm_id.unique().shape[0]))\n",
    "print('n of unique ICU stays: : ', (data_icustays.stay_id.unique().shape[0]))"
   ]
  },
  {
   "cell_type": "code",
   "execution_count": 67,
   "metadata": {},
   "outputs": [
    {
     "name": "stdout",
     "output_type": "stream",
     "text": [
      "number of stays with aki status available from ICU wards:  33806\n",
      "admissions with no AKI in ICU:  20100\n",
      "admissions with AKI 1 in ICU:  6239\n",
      "admissions with AKI 2 in ICU:  3560\n",
      "admissions with AKI 3 in ICU:  3907\n"
     ]
    }
   ],
   "source": [
    "print('number of stays with aki status available from ICU wards: ', \\\n",
    "                    aki_stage_labels_second_day.stay_id.unique().shape[0])\n",
    "g_adm = aki_stage_labels_second_day.groupby('stay_id').sum()\n",
    "print('admissions with no AKI in ICU: ', g_adm[g_adm.ANY_AKI==0].index.shape[0])\n",
    "print('admissions with AKI 1 in ICU: ', aki_stage_labels_second_day[aki_stage_labels_second_day.AKI_1==1].stay_id.unique().shape[0])\n",
    "print('admissions with AKI 2 in ICU: ', aki_stage_labels_second_day[aki_stage_labels_second_day.AKI_2==1].stay_id.unique().shape[0])\n",
    "print('admissions with AKI 3 in ICU: ', aki_stage_labels_second_day[aki_stage_labels_second_day.AKI_3==1].stay_id.unique().shape[0])"
   ]
  },
  {
   "cell_type": "code",
   "execution_count": 130,
   "metadata": {},
   "outputs": [
    {
     "data": {
      "image/png": "[encoded data removed]",
      "text/plain": [
       "<Figure size 864x432 with 1 Axes>"
      ]
     },
     "metadata": {
      "needs_background": "light"
     },
     "output_type": "display_data"
    }
   ],
   "source": [
    "from turtle import color\n",
    "from matplotlib import pyplot as plt\n",
    "icu_aki_status = aki_stage_labels.copy()\n",
    "\n",
    "g0 = icu_aki_status[(icu_aki_status.AKI_1==1)].sort_values(['hadm_id', 'icu_12h_window_id'])\\\n",
    "                        .drop_duplicates(['stay_id'], keep='first')\\\n",
    "                            .groupby('icu_day_id')\\\n",
    "                                .count()\n",
    "index0 = g0.AKI_1.sort_values(ascending=False).index\n",
    "values0 = g0.AKI_1.sort_values(ascending=False).values\n",
    "\n",
    "g1 = icu_aki_status[(icu_aki_status.AKI_1==1)&(icu_aki_status.AKI_2==0)].sort_values(['hadm_id', 'icu_12h_window_id'])\\\n",
    "                        .drop_duplicates(['stay_id'], keep='first')\\\n",
    "                            .groupby('icu_day_id')\\\n",
    "                                .count()\n",
    "index1 = g1.AKI_1.sort_values(ascending=False).index\n",
    "values1 = g1.AKI_1.sort_values(ascending=False).values\n",
    "\n",
    "g2 = icu_aki_status[(icu_aki_status.AKI_2==1)&(icu_aki_status.AKI_3==0)].sort_values(['hadm_id', 'icu_12h_window_id'])\\\n",
    "                        .drop_duplicates(['stay_id'], keep='first')\\\n",
    "                            .groupby('day_id')\\\n",
    "                                .count()\n",
    "index2 = g2.AKI_2.sort_values(ascending=False).index\n",
    "values2 = g2.AKI_2.sort_values(ascending=False).values\n",
    "\n",
    "g3 = icu_aki_status[icu_aki_status.AKI_3==1].sort_values(['hadm_id', 'icu_12h_window_id'])\\\n",
    "                        .drop_duplicates(['stay_id'], keep='first')\\\n",
    "                            .groupby('day_id')\\\n",
    "                                .count()\n",
    "index3 = g3.AKI_3.sort_values(ascending=False).index\n",
    "values3 = g3.AKI_3.sort_values(ascending=False).values\n",
    "\n",
    "fig, (ax2) = plt.subplots(1, 1, figsize=(12, 6), sharex=False) \n",
    "\n",
    "ax2.set_xticks(index1)\n",
    "# ax2.set_yticks(np.arange(0, 3000, 100))\n",
    "ax2.set_xlim([0,25])\n",
    "ax2.set_xlabel('Day in ICU', fontsize = 14)\n",
    "ax2.set_ylabel('Number of patients with AKI', fontsize = 14)\n",
    "# ax2.bar(index0, values0, width=0.9, label='AKI of any stage')\n",
    "ax2.bar(index1, values1, width=0.9, label='AKI of stage 1', color='#FFCD00')\n",
    "ax2.bar(index2, values2, width=0.9, label='AKI stage 2', color='orange')\n",
    "ax2.bar(index3, values3, width=0.9, label='AKI stage 3', color='#D15E46')\n",
    "# ax2.set_title('Number of patients having AKI onset on a particular day of an ICU stay') \n",
    "ax2.grid(True)\n",
    "ax2.legend( fontsize = 14)\n",
    "\n",
    "plt.show()"
   ]
  },
  {
   "cell_type": "code",
   "execution_count": 111,
   "metadata": {},
   "outputs": [
    {
     "name": "stdout",
     "output_type": "stream",
     "text": [
      "0.0 110.23\n"
     ]
    },
    {
     "data": {
      "image/png": "[encoded data removed]",
      "text/plain": [
       "<Figure size 1296x288 with 2 Axes>"
      ]
     },
     "metadata": {
      "needs_background": "light"
     },
     "output_type": "display_data"
    }
   ],
   "source": [
    "from matplotlib import pyplot as plt\n",
    "\n",
    "print(np.round(data_icustays.los.min(),2) , np.round(data_icustays.los.max(), 2))\n",
    "\n",
    "fig, (ax1, ax2) = plt.subplots(1, 2, figsize=(18, 4), sharex=False)\n",
    "ax1.hist(data_icustays.los,  bins=50, range=(0,20),histtype ='bar', facecolor='#088F8F')\n",
    "ax1.set_xticks(np.arange(0, 20))\n",
    "ax1.set_xlabel('Number of days in ICU', fontsize=14)\n",
    "ax1.set_ylabel('Number of patients', fontsize=14)\n",
    "ax1.grid()\n",
    "\n",
    "ax2.boxplot(data_icustays.los, vert=False)\n",
    "ax2.set_xticks(np.arange(0, 50, 2 ))\n",
    "ax2.set_xlim([0,50])\n",
    "ax2.set_xlabel('Number of days in ICU', fontsize=14)\n",
    "ax2.grid()\n",
    "\n",
    "# fig.suptitle(\"Length of ICU stay\", fontsize=\"x-large\")"
   ]
  },
  {
   "cell_type": "markdown",
   "metadata": {},
   "source": [
    "Creatinine on the first day in the ICU"
   ]
  },
  {
   "cell_type": "code",
   "execution_count": 55,
   "metadata": {},
   "outputs": [
    {
     "data": {
      "text/html": [
       "<div>\n",
       "<style scoped>\n",
       "    .dataframe tbody tr th:only-of-type {\n",
       "        vertical-align: middle;\n",
       "    }\n",
       "\n",
       "    .dataframe tbody tr th {\n",
       "        vertical-align: top;\n",
       "    }\n",
       "\n",
       "    .dataframe thead th {\n",
       "        text-align: right;\n",
       "    }\n",
       "</style>\n",
       "<table border=\"1\" class=\"dataframe\">\n",
       "  <thead>\n",
       "    <tr style=\"text-align: right;\">\n",
       "      <th></th>\n",
       "      <th>subject_id</th>\n",
       "      <th>hadm_id</th>\n",
       "      <th>stay_id</th>\n",
       "      <th>charttime</th>\n",
       "      <th>itemid</th>\n",
       "      <th>value</th>\n",
       "      <th>valuenum</th>\n",
       "      <th>valueuom</th>\n",
       "      <th>label</th>\n",
       "      <th>abbreviation</th>\n",
       "      <th>category</th>\n",
       "      <th>unitname</th>\n",
       "      <th>param_type</th>\n",
       "    </tr>\n",
       "  </thead>\n",
       "  <tbody>\n",
       "    <tr>\n",
       "      <th>928611</th>\n",
       "      <td>17341901</td>\n",
       "      <td>26732570</td>\n",
       "      <td>39786701</td>\n",
       "      <td>2142-10-09 15:30:00</td>\n",
       "      <td>220615</td>\n",
       "      <td>-0.1</td>\n",
       "      <td>-0.1</td>\n",
       "      <td>mg/dL</td>\n",
       "      <td>Creatinine (serum)</td>\n",
       "      <td>Creatinine (serum)</td>\n",
       "      <td>Labs</td>\n",
       "      <td>None</td>\n",
       "      <td>Numeric</td>\n",
       "    </tr>\n",
       "  </tbody>\n",
       "</table>\n",
       "</div>"
      ],
      "text/plain": [
       "        subject_id   hadm_id   stay_id           charttime  itemid value  \\\n",
       "928611    17341901  26732570  39786701 2142-10-09 15:30:00  220615  -0.1   \n",
       "\n",
       "        valuenum valueuom               label        abbreviation category  \\\n",
       "928611      -0.1    mg/dL  Creatinine (serum)  Creatinine (serum)     Labs   \n",
       "\n",
       "       unitname param_type  \n",
       "928611     None    Numeric  "
      ]
     },
     "execution_count": 55,
     "metadata": {},
     "output_type": "execute_result"
    }
   ],
   "source": [
    "fisrt_scr_icu = chartevents_creatinine.sort_values(['subject_id','hadm_id','stay_id','charttime'], ascending=True).drop_duplicates(['subject_id','hadm_id','stay_id'], keep='first').sort_values('value', ascending=True)\n",
    "fisrt_scr_icu['valuenum'] =  fisrt_scr_icu['valuenum'].astype(float)\n",
    "fisrt_scr_icu.head(1)"
   ]
  },
  {
   "cell_type": "code",
   "execution_count": 54,
   "metadata": {},
   "outputs": [
    {
     "data": {
      "text/plain": [
       "array(['-0.1', '0', '0', ..., '999999', '999999', '999999'], dtype=object)"
      ]
     },
     "execution_count": 54,
     "metadata": {},
     "output_type": "execute_result"
    }
   ],
   "source": [
    "fisrt_scr_icu.value.values"
   ]
  },
  {
   "cell_type": "code",
   "execution_count": 121,
   "metadata": {},
   "outputs": [
    {
     "data": {
      "image/png": "[encoded data removed]",
      "text/plain": [
       "<Figure size 1296x288 with 2 Axes>"
      ]
     },
     "metadata": {
      "needs_background": "light"
     },
     "output_type": "display_data"
    }
   ],
   "source": [
    "from turtle import width\n",
    "from matplotlib import pyplot as plt\n",
    "\n",
    "fig, (ax1, ax2) = plt.subplots(1, 2, figsize=(18, 4), sharex=False)\n",
    "\n",
    "ax1.hist(fisrt_scr_icu.valuenum,  bins=60, range=(0,5),  histtype ='bar', facecolor='#70C659')\n",
    "ax1.set_xticks(np.arange(0, 5, 0.3))\n",
    "ax1.set_xlabel('Creatinine, mg/dL', fontsize=14)\n",
    "ax1.set_ylabel('Number of patients', fontsize=14)\n",
    "ax1.grid()\n",
    "\n",
    "ax2.boxplot(fisrt_scr_icu.valuenum, vert=False)\n",
    "ax2.set_xticks(np.arange(0, 10, 0.5 ))\n",
    "ax2.set_xlim([0,10])\n",
    "ax2.set_xlabel('Creatinine, mg/dL', fontsize=14)\n",
    "ax2.grid()"
   ]
  },
  {
   "cell_type": "markdown",
   "metadata": {},
   "source": [
    "# Final cohort"
   ]
  },
  {
   "cell_type": "code",
   "execution_count": 3,
   "metadata": {},
   "outputs": [],
   "source": [
    "with open(DF_PATH + 'pid_train_dataset_icu.pkl', 'rb') as f:\n",
    "    pid_train_dataset_icu = pickle.load(f)\n",
    "\n",
    "with open(DF_PATH + 'pid_test_dataset_icu.pkl', 'rb') as f:\n",
    "    pid_test_dataset_icu = pickle.load(f)\n",
    "\n",
    "with open(DF_PATH + 'pid_val_dataset_icu.pkl', 'rb') as f:\n",
    "    pid_val_dataset_icu = pickle.load(f)"
   ]
  },
  {
   "cell_type": "code",
   "execution_count": 8,
   "metadata": {},
   "outputs": [
    {
     "name": "stdout",
     "output_type": "stream",
     "text": [
      "pid_train_dataset_icu:  (11425,)\n",
      "pid_test_dataset_icu:  (1428,)\n",
      "pid_val_dataset_icu:  (1429,)\n"
     ]
    }
   ],
   "source": [
    "print('pid_train_dataset_icu: ', pid_train_dataset_icu.stay_id.unique().shape)\n",
    "print('pid_test_dataset_icu: ', pid_test_dataset_icu.stay_id.unique().shape)\n",
    "print('pid_val_dataset_icu: ', pid_val_dataset_icu.stay_id.unique().shape)"
   ]
  },
  {
   "cell_type": "code",
   "execution_count": 73,
   "metadata": {},
   "outputs": [],
   "source": [
    "LABELS_PATH = '/home/svetlanamaslenkova/Documents/AKI_deep/LSTM/pickles_2/aki_stage_labels.pkl'\n",
    "\n",
    "with open(LABELS_PATH, 'rb') as f:\n",
    "    aki_stage_labels = pickle.load(f)"
   ]
  },
  {
   "cell_type": "code",
   "execution_count": 9,
   "metadata": {},
   "outputs": [
    {
     "data": {
      "text/plain": [
       "14282"
      ]
     },
     "execution_count": 9,
     "metadata": {},
     "output_type": "execute_result"
    }
   ],
   "source": [
    "dataset = pd.concat([pid_train_dataset_icu, pid_test_dataset_icu, pid_val_dataset_icu])\n",
    "stays = dataset.stay_id.unique()\n",
    "len(stays)"
   ]
  },
  {
   "cell_type": "code",
   "execution_count": 44,
   "metadata": {},
   "outputs": [
    {
     "data": {
      "text/plain": [
       "subject_id                 0\n",
       "hadm_id                    0\n",
       "stay_id                    0\n",
       "day_id                  5823\n",
       "icu_12h_window_id          0\n",
       "icu_day_id                 0\n",
       "demographics               0\n",
       "previous_diags_codes       0\n",
       "previous_diags_names       0\n",
       "vitals_names               0\n",
       "vitals_codes               0\n",
       "labs_names                 0\n",
       "labs_codes                 0\n",
       "outputs_names              0\n",
       "outputs_codes              0\n",
       "medications_names          0\n",
       "medications_codes          0\n",
       "AKI_1                      0\n",
       "AKI_2                      0\n",
       "AKI_3                      0\n",
       "icu_12h_info_codes         0\n",
       "icu_12h_info_names         0\n",
       "dtype: int64"
      ]
     },
     "execution_count": 44,
     "metadata": {},
     "output_type": "execute_result"
    }
   ],
   "source": [
    "dataset.isna().sum()"
   ]
  },
  {
   "cell_type": "markdown",
   "metadata": {},
   "source": [
    "Get number of stays and ratioo of AKI"
   ]
  },
  {
   "cell_type": "code",
   "execution_count": 19,
   "metadata": {},
   "outputs": [],
   "source": [
    "dataset = dataset[dataset.icu_day_id==1].sort_values(['AKI_1', 'AKI_2', 'AKI_3'], ascending=False).drop_duplicates('stay_id', keep='first')"
   ]
  },
  {
   "cell_type": "code",
   "execution_count": null,
   "metadata": {},
   "outputs": [],
   "source": [
    "with open('/home/svetlanamaslenkova/Documents/AKI_deep/LSTM/pickles_2/dataset_lstm_icu.pkl', 'wb') as f:\n",
    "    pickle.dump(dataset, f, protocol=pickle.HIGHEST_PROTOCOL)"
   ]
  },
  {
   "cell_type": "code",
   "execution_count": 25,
   "metadata": {},
   "outputs": [
    {
     "name": "stdout",
     "output_type": "stream",
     "text": [
      "14260\n",
      "Ratio of patients with AKI_1:  0.09\n",
      "Ratio of patients with AKI_2:  0.03\n",
      "Ratio of patients with AKI_3:  0.01\n"
     ]
    }
   ],
   "source": [
    "print(dataset.shape[0])\n",
    "print('Ratio of patients with AKI_1: ', np.round((dataset.AKI_1==1).sum()/dataset.shape[0], 2))\n",
    "print('Ratio of patients with AKI_2: ', np.round((dataset.AKI_2==1).sum()/dataset.shape[0], 2))\n",
    "print('Ratio of patients with AKI_3: ', np.round((dataset.AKI_3==1).sum()/dataset.shape[0], 2))"
   ]
  },
  {
   "cell_type": "code",
   "execution_count": 47,
   "metadata": {},
   "outputs": [
    {
     "data": {
      "text/html": [
       "<div>\n",
       "<style scoped>\n",
       "    .dataframe tbody tr th:only-of-type {\n",
       "        vertical-align: middle;\n",
       "    }\n",
       "\n",
       "    .dataframe tbody tr th {\n",
       "        vertical-align: top;\n",
       "    }\n",
       "\n",
       "    .dataframe thead th {\n",
       "        text-align: right;\n",
       "    }\n",
       "</style>\n",
       "<table border=\"1\" class=\"dataframe\">\n",
       "  <thead>\n",
       "    <tr style=\"text-align: right;\">\n",
       "      <th></th>\n",
       "      <th>subject_id</th>\n",
       "      <th>gender</th>\n",
       "      <th>anchor_age</th>\n",
       "      <th>anchor_year</th>\n",
       "      <th>anchor_year_group</th>\n",
       "      <th>dod</th>\n",
       "    </tr>\n",
       "  </thead>\n",
       "  <tbody>\n",
       "    <tr>\n",
       "      <th>0</th>\n",
       "      <td>10000032</td>\n",
       "      <td>F</td>\n",
       "      <td>52</td>\n",
       "      <td>2180</td>\n",
       "      <td>2014 - 2016</td>\n",
       "      <td>2180-09-09</td>\n",
       "    </tr>\n",
       "    <tr>\n",
       "      <th>1</th>\n",
       "      <td>10000048</td>\n",
       "      <td>F</td>\n",
       "      <td>23</td>\n",
       "      <td>2126</td>\n",
       "      <td>2008 - 2010</td>\n",
       "      <td>NaN</td>\n",
       "    </tr>\n",
       "    <tr>\n",
       "      <th>2</th>\n",
       "      <td>10000068</td>\n",
       "      <td>F</td>\n",
       "      <td>19</td>\n",
       "      <td>2160</td>\n",
       "      <td>2008 - 2010</td>\n",
       "      <td>NaN</td>\n",
       "    </tr>\n",
       "    <tr>\n",
       "      <th>3</th>\n",
       "      <td>10000084</td>\n",
       "      <td>M</td>\n",
       "      <td>72</td>\n",
       "      <td>2160</td>\n",
       "      <td>2017 - 2019</td>\n",
       "      <td>2161-02-13</td>\n",
       "    </tr>\n",
       "    <tr>\n",
       "      <th>4</th>\n",
       "      <td>10000102</td>\n",
       "      <td>F</td>\n",
       "      <td>27</td>\n",
       "      <td>2136</td>\n",
       "      <td>2008 - 2010</td>\n",
       "      <td>NaN</td>\n",
       "    </tr>\n",
       "    <tr>\n",
       "      <th>...</th>\n",
       "      <td>...</td>\n",
       "      <td>...</td>\n",
       "      <td>...</td>\n",
       "      <td>...</td>\n",
       "      <td>...</td>\n",
       "      <td>...</td>\n",
       "    </tr>\n",
       "    <tr>\n",
       "      <th>315455</th>\n",
       "      <td>19999828</td>\n",
       "      <td>F</td>\n",
       "      <td>46</td>\n",
       "      <td>2147</td>\n",
       "      <td>2017 - 2019</td>\n",
       "      <td>NaN</td>\n",
       "    </tr>\n",
       "    <tr>\n",
       "      <th>315456</th>\n",
       "      <td>19999829</td>\n",
       "      <td>F</td>\n",
       "      <td>28</td>\n",
       "      <td>2186</td>\n",
       "      <td>2008 - 2010</td>\n",
       "      <td>NaN</td>\n",
       "    </tr>\n",
       "    <tr>\n",
       "      <th>315457</th>\n",
       "      <td>19999840</td>\n",
       "      <td>M</td>\n",
       "      <td>58</td>\n",
       "      <td>2164</td>\n",
       "      <td>2008 - 2010</td>\n",
       "      <td>2164-09-17</td>\n",
       "    </tr>\n",
       "    <tr>\n",
       "      <th>315458</th>\n",
       "      <td>19999914</td>\n",
       "      <td>F</td>\n",
       "      <td>49</td>\n",
       "      <td>2158</td>\n",
       "      <td>2017 - 2019</td>\n",
       "      <td>NaN</td>\n",
       "    </tr>\n",
       "    <tr>\n",
       "      <th>315459</th>\n",
       "      <td>19999987</td>\n",
       "      <td>F</td>\n",
       "      <td>57</td>\n",
       "      <td>2145</td>\n",
       "      <td>2011 - 2013</td>\n",
       "      <td>NaN</td>\n",
       "    </tr>\n",
       "  </tbody>\n",
       "</table>\n",
       "<p>315460 rows × 6 columns</p>\n",
       "</div>"
      ],
      "text/plain": [
       "        subject_id gender  anchor_age  anchor_year anchor_year_group  \\\n",
       "0         10000032      F          52         2180       2014 - 2016   \n",
       "1         10000048      F          23         2126       2008 - 2010   \n",
       "2         10000068      F          19         2160       2008 - 2010   \n",
       "3         10000084      M          72         2160       2017 - 2019   \n",
       "4         10000102      F          27         2136       2008 - 2010   \n",
       "...            ...    ...         ...          ...               ...   \n",
       "315455    19999828      F          46         2147       2017 - 2019   \n",
       "315456    19999829      F          28         2186       2008 - 2010   \n",
       "315457    19999840      M          58         2164       2008 - 2010   \n",
       "315458    19999914      F          49         2158       2017 - 2019   \n",
       "315459    19999987      F          57         2145       2011 - 2013   \n",
       "\n",
       "               dod  \n",
       "0       2180-09-09  \n",
       "1              NaN  \n",
       "2              NaN  \n",
       "3       2161-02-13  \n",
       "4              NaN  \n",
       "...            ...  \n",
       "315455         NaN  \n",
       "315456         NaN  \n",
       "315457  2164-09-17  \n",
       "315458         NaN  \n",
       "315459         NaN  \n",
       "\n",
       "[315460 rows x 6 columns]"
      ]
     },
     "execution_count": 47,
     "metadata": {},
     "output_type": "execute_result"
    }
   ],
   "source": [
    "data_patients[data_patients.subject_id.isin()]"
   ]
  },
  {
   "cell_type": "code",
   "execution_count": 110,
   "metadata": {},
   "outputs": [
    {
     "name": "stdout",
     "output_type": "stream",
     "text": [
      "14260\n",
      "12810\n",
      "13759\n"
     ]
    }
   ],
   "source": [
    "stays = dataset.stay_id.unique()\n",
    "patients = data_icustays[data_icustays.stay_id.isin(stays)].subject_id.unique()\n",
    "admissions = data_icustays[data_icustays.stay_id.isin(stays)].hadm_id.unique()\n",
    "print(len(stays))\n",
    "print(len(patients))\n",
    "print(len(admissions))"
   ]
  },
  {
   "cell_type": "code",
   "execution_count": 130,
   "metadata": {},
   "outputs": [
    {
     "name": "stdout",
     "output_type": "stream",
     "text": [
      "ratio of women:  0.46\n",
      "median length of stay:  3.4\n"
     ]
    }
   ],
   "source": [
    "patients_df = data_patients[data_patients.subject_id.isin(patients)]\n",
    "print('ratio of women: ', np.round(((patients_df.gender=='F').sum() / patients_df.shape[0]) , 2))\n",
    "print('median length of stay: ', np.round(data_icustays[data_icustays.stay_id.isin(stays)].los.median(), 2))"
   ]
  },
  {
   "cell_type": "code",
   "execution_count": 123,
   "metadata": {},
   "outputs": [],
   "source": [
    "data_demographics = pd.merge(data_admissions[['subject_id',\t'hadm_id',\t'admittime',\t'dischtime', 'race']], \\\n",
    "                                data_patients[['subject_id',\t'gender',\t'anchor_age',\t'anchor_year']], \\\n",
    "                                how='outer', on=['subject_id'])"
   ]
  },
  {
   "cell_type": "code",
   "execution_count": 124,
   "metadata": {},
   "outputs": [],
   "source": [
    "# get age of patients at the time of an admission\n",
    "data_demographics['age_of_birth'] = data_demographics['anchor_year'] - data_demographics['anchor_age']\n",
    "data_demographics['age'] = [value.year for value in data_demographics['admittime']] - data_demographics['age_of_birth']\n",
    "\n",
    "# drop unnecessary columns\n",
    "data_demographics = data_demographics.drop(['anchor_age','anchor_year', 'age_of_birth'], axis=1)\n",
    "\n",
    "data_demographics.age = data_demographics.age.fillna(-1)\n",
    "data_demographics['age'] = data_demographics['age'].astype(int)"
   ]
  },
  {
   "cell_type": "code",
   "execution_count": 113,
   "metadata": {},
   "outputs": [
    {
     "data": {
      "text/html": [
       "<div>\n",
       "<style scoped>\n",
       "    .dataframe tbody tr th:only-of-type {\n",
       "        vertical-align: middle;\n",
       "    }\n",
       "\n",
       "    .dataframe tbody tr th {\n",
       "        vertical-align: top;\n",
       "    }\n",
       "\n",
       "    .dataframe thead th {\n",
       "        text-align: right;\n",
       "    }\n",
       "</style>\n",
       "<table border=\"1\" class=\"dataframe\">\n",
       "  <thead>\n",
       "    <tr style=\"text-align: right;\">\n",
       "      <th></th>\n",
       "      <th>subject_id</th>\n",
       "      <th>hadm_id</th>\n",
       "      <th>admittime</th>\n",
       "      <th>dischtime</th>\n",
       "      <th>race</th>\n",
       "      <th>gender</th>\n",
       "      <th>age</th>\n",
       "    </tr>\n",
       "  </thead>\n",
       "  <tbody>\n",
       "    <tr>\n",
       "      <th>110</th>\n",
       "      <td>10002155</td>\n",
       "      <td>28994087.0</td>\n",
       "      <td>2130-09-23 21:59:00</td>\n",
       "      <td>2130-09-29 18:55:00</td>\n",
       "      <td>WHITE</td>\n",
       "      <td>F</td>\n",
       "      <td>82</td>\n",
       "    </tr>\n",
       "    <tr>\n",
       "      <th>121</th>\n",
       "      <td>10002348</td>\n",
       "      <td>22725460.0</td>\n",
       "      <td>2112-11-30 22:22:00</td>\n",
       "      <td>2112-12-10 17:56:00</td>\n",
       "      <td>WHITE</td>\n",
       "      <td>F</td>\n",
       "      <td>77</td>\n",
       "    </tr>\n",
       "  </tbody>\n",
       "</table>\n",
       "</div>"
      ],
      "text/plain": [
       "     subject_id     hadm_id           admittime           dischtime   race  \\\n",
       "110    10002155  28994087.0 2130-09-23 21:59:00 2130-09-29 18:55:00  WHITE   \n",
       "121    10002348  22725460.0 2112-11-30 22:22:00 2112-12-10 17:56:00  WHITE   \n",
       "\n",
       "    gender age  \n",
       "110      F  82  \n",
       "121      F  77  "
      ]
     },
     "execution_count": 113,
     "metadata": {},
     "output_type": "execute_result"
    }
   ],
   "source": [
    "data_demographics = data_demographics[data_demographics.hadm_id.isin(admissions)]\n",
    "data_demographics.head(2)"
   ]
  },
  {
   "cell_type": "code",
   "execution_count": 127,
   "metadata": {},
   "outputs": [
    {
     "name": "stdout",
     "output_type": "stream",
     "text": [
      "ratio of women:  0.52\n",
      "median age:  53.0\n"
     ]
    }
   ],
   "source": [
    "print('ratio of women: ', np.round(((data_demographics.gender=='F').sum() / data_demographics.shape[0]), 2))\n",
    "print('median age: ', data_demographics.age.median())"
   ]
  },
  {
   "cell_type": "code",
   "execution_count": 129,
   "metadata": {},
   "outputs": [
    {
     "data": {
      "text/plain": [
       "WHITE                                        63.239670\n",
       "BLACK/AFRICAN AMERICAN                       13.909677\n",
       "OTHER                                         3.492001\n",
       "UNKNOWN                                       2.473345\n",
       "HISPANIC/LATINO - PUERTO RICAN                1.890941\n",
       "WHITE - OTHER EUROPEAN                        1.844279\n",
       "HISPANIC OR LATINO                            1.815885\n",
       "ASIAN                                         1.435099\n",
       "ASIAN - CHINESE                               1.290929\n",
       "WHITE - RUSSIAN                               1.168109\n",
       "BLACK/CAPE VERDEAN                            1.106699\n",
       "HISPANIC/LATINO - DOMINICAN                   1.017336\n",
       "BLACK/CARIBBEAN ISLAND                        0.616520\n",
       "BLACK/AFRICAN                                 0.589007\n",
       "PATIENT DECLINED TO ANSWER                    0.406098\n",
       "UNABLE TO OBTAIN                              0.370661\n",
       "PORTUGUESE                                    0.344908\n",
       "ASIAN - SOUTH EAST ASIAN                      0.336104\n",
       "HISPANIC/LATINO - GUATEMALAN                  0.305729\n",
       "ASIAN - ASIAN INDIAN                          0.278436\n",
       "WHITE - EASTERN EUROPEAN                      0.275794\n",
       "WHITE - BRAZILIAN                             0.258846\n",
       "AMERICAN INDIAN/ALASKA NATIVE                 0.216586\n",
       "HISPANIC/LATINO - SALVADORAN                  0.206681\n",
       "HISPANIC/LATINO - MEXICAN                     0.152534\n",
       "HISPANIC/LATINO - COLUMBIAN                   0.150333\n",
       "MULTIPLE RACE/ETHNICITY                       0.130964\n",
       "HISPANIC/LATINO - HONDURAN                    0.126342\n",
       "ASIAN - KOREAN                                0.119738\n",
       "SOUTH AMERICAN                                0.119298\n",
       "HISPANIC/LATINO - CUBAN                       0.116437\n",
       "HISPANIC/LATINO - CENTRAL AMERICAN            0.105872\n",
       "NATIVE HAWAIIAN OR OTHER PACIFIC ISLANDER     0.089143\n",
       "Name: race, dtype: float64"
      ]
     },
     "execution_count": 129,
     "metadata": {},
     "output_type": "execute_result"
    }
   ],
   "source": [
    "data_demographics.race.value_counts(normalize=True)*100"
   ]
  },
  {
   "cell_type": "code",
   "execution_count": 91,
   "metadata": {},
   "outputs": [
    {
     "data": {
      "text/plain": [
       "(13128,)"
      ]
     },
     "execution_count": 91,
     "metadata": {},
     "output_type": "execute_result"
    }
   ],
   "source": [
    "aki_stage_labels = aki_stage_labels[aki_stage_labels.stay_id.isin(stays)&(aki_stage_labels.icu_day_id==1)]\n",
    "aki_stage_labels.stay_id.unique().shape"
   ]
  },
  {
   "cell_type": "code",
   "execution_count": 98,
   "metadata": {},
   "outputs": [],
   "source": [
    "def difference(lst1, lst2):\n",
    "    lst3 = [value for value in lst1 if value not in lst2]\n",
    "    #return lst3\n",
    "    return lst3\n",
    "\n",
    "def intersection(lst1, lst2):\n",
    "    lst3 = [value for value in lst1 if value in lst2]\n",
    "    #return lst3\n",
    "    return lst3"
   ]
  },
  {
   "cell_type": "code",
   "execution_count": 97,
   "metadata": {},
   "outputs": [
    {
     "data": {
      "text/plain": [
       "[32610785, 31532954, 36460006, 31122755, 39508268]"
      ]
     },
     "execution_count": 97,
     "metadata": {},
     "output_type": "execute_result"
    }
   ],
   "source": [
    "difference(stays, aki_stage_labels.stay_id.unique())[0:5]"
   ]
  },
  {
   "cell_type": "code",
   "execution_count": 103,
   "metadata": {},
   "outputs": [
    {
     "data": {
      "text/plain": [
       "13128"
      ]
     },
     "execution_count": 103,
     "metadata": {},
     "output_type": "execute_result"
    }
   ],
   "source": [
    "len(intersection(stays, aki_stage_labels.stay_id.unique()))"
   ]
  },
  {
   "cell_type": "code",
   "execution_count": 104,
   "metadata": {},
   "outputs": [],
   "source": [
    "labels1 = []\n",
    "labels2 = []\n",
    "labels3 = []\n",
    "labels_no = []\n",
    "for stay in intersection(stays, aki_stage_labels.stay_id.unique()):\n",
    "    stay_labels = aki_stage_labels[(aki_stage_labels.stay_id==stay)&(aki_stage_labels.icu_day_id==1)]\n",
    "    AKI_1_label = (np.sum(stay_labels.AKI_1.values) > 0).astype(int)\n",
    "    AKI_2_label = (np.sum(stay_labels.AKI_2.values) > 0).astype(int)\n",
    "    AKI_3_label = (np.sum(stay_labels.AKI_3.values) > 0).astype(int)\n",
    "    AKI_NO_AKI_label = (np.sum(stay_labels.NO_AKI.values) > 0).astype(int)\n",
    "    labels1.append(AKI_1_label)\n",
    "    labels2.append(AKI_2_label)\n",
    "    labels3.append(AKI_3_label)\n",
    "    labels_no.append(AKI_NO_AKI_label)\n"
   ]
  },
  {
   "cell_type": "code",
   "execution_count": 106,
   "metadata": {},
   "outputs": [
    {
     "name": "stdout",
     "output_type": "stream",
     "text": [
      "AKI_1:    1033\n",
      "AKI_2:    451\n",
      "AKI_3:    112\n",
      "NO_AKI:   11731\n",
      "\n",
      "sum:    13327\n"
     ]
    }
   ],
   "source": [
    "print('AKI_1:   ', np.sum(labels1))\n",
    "print('AKI_2:   ', np.sum(labels2))\n",
    "print('AKI_3:   ', np.sum(labels3))\n",
    "print('NO_AKI:  ', np.sum(labels_no))\n",
    "print('\\nsum:   ', np.sum(labels1)+np.sum(labels2)+np.sum(labels3)+np.sum(labels_no))"
   ]
  }
 ],
 "metadata": {
  "kernelspec": {
   "display_name": "Python 3.7.11",
   "language": "python",
   "name": "python3"
  },
  "language_info": {
   "codemirror_mode": {
    "name": "ipython",
    "version": 3
   },
   "file_extension": ".py",
   "mimetype": "text/x-python",
   "name": "python",
   "nbconvert_exporter": "python",
   "pygments_lexer": "ipython3",
   "version": "3.7.11"
  },
  "orig_nbformat": 4,
  "vscode": {
   "interpreter": {
    "hash": "bb5fdc613a097f32ece1e000bc60f17f3e33b8b9e39d8b8753abf3e45200e5d0"
   }
  }
 },
 "nbformat": 4,
 "nbformat_minor": 2
}
