{
 "cells": [
  {
   "cell_type": "code",
   "execution_count": 1,
   "metadata": {},
   "outputs": [],
   "source": [
    "# IMPORTS\n",
    "import torch\n",
    "from torch import nn\n",
    "import torch.optim as optim\n",
    "from torch.optim import lr_scheduler\n",
    "import torch.nn.functional as F\n",
    "from torch.utils.data import Dataset, DataLoader\n",
    "\n",
    "from tokenizers import  Tokenizer\n",
    "from tokenizers.models import BPE\n",
    "from tokenizers.trainers import BpeTrainer\n",
    "from tokenizers.pre_tokenizers import Punctuation, Whitespace\n",
    "from tokenizers.normalizers import Lowercase\n",
    "from tokenizers import pre_tokenizers, normalizers\n",
    "from tokenizers.processors import BertProcessing\n",
    "\n",
    "import glob\n",
    "from os.path import exists\n",
    "import os\n",
    "\n",
    "import pickle5 as pickle\n",
    "import wandb\n",
    "\n",
    "import pandas as pd\n",
    "import numpy as np"
   ]
  },
  {
   "cell_type": "code",
   "execution_count": 2,
   "metadata": {},
   "outputs": [],
   "source": [
    "def save_checkpoint(save_path, model, optimizer, valid_loss):\n",
    "\n",
    "    if save_path == None:\n",
    "        return\n",
    "    \n",
    "    state_dict = {'model_state_dict': model.state_dict(),\n",
    "                  'optimizer_state_dict': optimizer.state_dict(),\n",
    "                  'valid_loss': valid_loss}\n",
    "    \n",
    "    torch.save(state_dict, save_path)\n",
    "    print(f'Model saved to ==> {save_path}')\n",
    "\n",
    "\n",
    "def load_checkpoint(load_path, model, optimizer, device):\n",
    "\n",
    "    if load_path==None:\n",
    "        return\n",
    "    \n",
    "    state_dict = torch.load(load_path, map_location=device)\n",
    "    print(f'Model loaded from <== {load_path}')\n",
    "    \n",
    "    model.load_state_dict(state_dict['model_state_dict'])\n",
    "    optimizer.load_state_dict(state_dict['optimizer_state_dict'])\n",
    "    \n",
    "    return state_dict['valid_loss']"
   ]
  },
  {
   "cell_type": "code",
   "execution_count": 3,
   "metadata": {},
   "outputs": [],
   "source": [
    "class ContrastiveLoss(nn.Module):\n",
    "    def __init__(self, batch_size, device, temperature=0.5):\n",
    "        super().__init__()\n",
    "        self.batch_size = batch_size\n",
    "        self.device = device\n",
    "        self.register_buffer(\"temperature\", torch.tensor(temperature))\n",
    "        self.register_buffer(\"negatives_mask\", (~torch.eye(batch_size * 2, batch_size * 2, dtype=bool)).float())\n",
    "            \n",
    "    def forward(self, emb_i, emb_j):\n",
    "        \"\"\"\n",
    "        emb_i and emb_j are batches of embeddings, where corresponding indices are pairs\n",
    "        z_i, z_j as per SimCLR paper\n",
    "        \"\"\"\n",
    "        z_i = F.normalize(emb_i, dim=1)\n",
    "        z_j = F.normalize(emb_j, dim=1)\n",
    "\n",
    "        representations = torch.cat([z_i, z_j], dim=0)\n",
    "        \n",
    "        similarity_matrix = F.cosine_similarity(representations.unsqueeze(1), representations.unsqueeze(0), dim=2)\n",
    "        \n",
    "        sim_ij = torch.diag(similarity_matrix, self.batch_size)\n",
    "        sim_ji = torch.diag(similarity_matrix, -self.batch_size)\n",
    "        positives = torch.cat([sim_ij, sim_ji], dim=0)\n",
    "        \n",
    "        nominator = torch.exp(positives / self.temperature)\n",
    "        denominator = self.negatives_mask.to(self.device) * torch.exp(similarity_matrix / self.temperature)\n",
    "    \n",
    "        loss_partial = -torch.log(nominator / torch.sum(denominator, dim=1))\n",
    "        loss = torch.sum(loss_partial) / (2 * self.batch_size)\n",
    "        return loss"
   ]
  },
  {
   "cell_type": "code",
   "execution_count": 215,
   "metadata": {},
   "outputs": [],
   "source": [
    "class MyDataset(Dataset):\n",
    "\n",
    "    def __init__(self, df, tokenizer, max_length, pred_window=2, observing_window=3):\n",
    "        self.df = df\n",
    "        self.tokenizer = tokenizer\n",
    "        self.observing_window = observing_window\n",
    "        self.pred_window = pred_window\n",
    "        self.max_length = max_length\n",
    "        # self.max_length_diags = 35\n",
    "\n",
    "        \n",
    "    def __len__(self):\n",
    "        return self.df.shape[0]\n",
    "\n",
    "    def __getitem__(self, idx):\n",
    "\n",
    "        return self.make_matrices(idx)\n",
    "    \n",
    "    def tokenize(self, text, max_length): \n",
    "        \n",
    "        # max_length = max_length + 2\n",
    "        self.tokenizer.enable_truncation(max_length=max_length)\n",
    "\n",
    "        output = self.tokenizer.encode(text)\n",
    "\n",
    "        # padding and truncation\n",
    "        if len(output.ids) < max_length:\n",
    "            len_missing_token = max_length - len(output.ids)\n",
    "            padding_vec = [self.tokenizer.token_to_id('PAD') for _ in range(len_missing_token)]\n",
    "            token_output = [*output.ids, *padding_vec]\n",
    "        elif len(output.ids) > max_length:\n",
    "            token_output = output.ids[:max_length]\n",
    "        else:\n",
    "            token_output = output.ids\n",
    "        \n",
    "        return token_output\n",
    "\n",
    "    def make_matrices(self, idx):\n",
    "        \n",
    "        hadm_id = self.df.hadm_id.values[idx]\n",
    "        diagnoses_info = self.df.previous_diagnoses.values[idx]\n",
    "        demo_info = self.df.demographics_in_visit.values[idx][0]\n",
    "        lab_info = self.df.lab_tests_in_visit.values[idx]\n",
    "        med_info = self.df.medications_in_visit.values[idx]\n",
    "        vitals_info = self.df.vitals_in_visit.values[idx]\n",
    "        \n",
    "        # aki_status = self.df.aki_status_in_visit.values[idx]\n",
    "        days = self.df.days.values[idx]\n",
    "        # print(idx)\n",
    "\n",
    "        lab_info_list = []\n",
    "        med_info_list = []\n",
    "        vitals_info_list = []\n",
    "        label = None\n",
    "\n",
    "        for day in range(days[0], days[0] + self.observing_window + self.pred_window):\n",
    "            # print('day', day)\n",
    "            if day not in days:\n",
    "                vitals_info_list.append(self.tokenize('', self.max_length['vitals']))\n",
    "                lab_info_list.append(self.tokenize('', self.max_length['lab_tests']))\n",
    "                med_info_list.append(self.tokenize('', self.max_length['medications']))\n",
    "\n",
    "            else:\n",
    "                i = days.index(day)\n",
    "                \n",
    "                # vitals\n",
    "                if (str(vitals_info[i]) == 'nan') or (vitals_info[i] == np.nan):\n",
    "                    vitals_info_list.append(self.tokenize('PAD', self.max_length['vitals']))\n",
    "                else:\n",
    "                    vitals_info_list.append(self.tokenize(vitals_info[i], self.max_length['vitals']))\n",
    "\n",
    "                # lab results\n",
    "                if (str(lab_info[i]) == 'nan') or (lab_info[i] == np.nan):\n",
    "                    lab_info_list.append(self.tokenize('PAD', self.max_length['lab_tests']))\n",
    "                else:\n",
    "                    lab_info_list.append(self.tokenize(lab_info[i], self.max_length['lab_tests']))\n",
    "                \n",
    "                # medications\n",
    "                if (str(med_info[i]) == 'nan') or (med_info[i] == np.nan):\n",
    "                    med_info_list.append(self.tokenize('PAD', self.max_length['medications']))\n",
    "                else:\n",
    "                    med_info_list.append(self.tokenize(med_info[i], self.max_length['medications']))\n",
    "\n",
    "        # diagnoses\n",
    "        if (str(diagnoses_info) == 'nan') or (diagnoses_info == np.nan):\n",
    "            diagnoses_info = self.tokenize('PAD', self.max_length['diagnoses'])\n",
    "        else:\n",
    "            diagnoses_info = self.tokenize(diagnoses_info, self.max_length['diagnoses'])\n",
    "\n",
    "        # demographics\n",
    "        if (str(demo_info) == 'nan') or (demo_info == np.nan):\n",
    "            demo_info = self.tokenize('PAD', self.max_length_diags)\n",
    "        else:\n",
    "            demo_info = self.tokenize(demo_info, self.max_length['demographics'])\n",
    "\n",
    "        #make tensors\n",
    "        tensor_demo = torch.tensor(demo_info, dtype=torch.int64)\n",
    "        tensor_diags = torch.tensor(diagnoses_info, dtype=torch.int64)\n",
    "        tensor_vitals = torch.tensor(vitals_info_list, dtype=torch.int64)\n",
    "        tensor_labs = torch.tensor(lab_info_list, dtype=torch.int64)\n",
    "        tensor_meds = torch.tensor(med_info_list, dtype=torch.int64)\n",
    "        # tensor_labels = torch.tensor(label, dtype=torch.float64)\n",
    "    \n",
    "        return tensor_demo, tensor_diags, tensor_vitals, tensor_labs, tensor_meds, hadm_id"
   ]
  },
  {
   "cell_type": "markdown",
   "metadata": {},
   "source": [
    "# Pretraining"
   ]
  },
  {
   "cell_type": "code",
   "execution_count": 4,
   "metadata": {},
   "outputs": [],
   "source": [
    "class EHR_PRETRAINING(nn.Module):\n",
    "    def __init__(self, max_length, vocab_size, device, pred_window=2, observing_window=3,  H=128, embedding_size=200, drop=0.6):\n",
    "        super(EHR_PRETRAINING, self).__init__()\n",
    "\n",
    "        self.observing_window = observing_window\n",
    "        self.pred_window = pred_window\n",
    "        self.H = H\n",
    "        self.max_length_demo = max_length['demographics']\n",
    "        self.max_length_diags = max_length['diagnoses']\n",
    "        self.max_length_meds = max_length['medications']\n",
    "        self.max_length_vitals = max_length['vitals']\n",
    "        self.max_length_lab = max_length['lab_tests']\n",
    "        self.embedding_size = embedding_size\n",
    "        self.vocab_size = vocab_size\n",
    "        self.device = device\n",
    "        self.drop = drop\n",
    "\n",
    "        # self.embedding = pretrained_model\n",
    "        self.embedding = nn.Embedding(self.vocab_size, self.embedding_size)\n",
    "\n",
    "        self.lstm_day = nn.LSTM(input_size=embedding_size,\n",
    "                            hidden_size=self.H,\n",
    "                            num_layers=1,\n",
    "                            batch_first=True,\n",
    "                            bidirectional=True)\n",
    "\n",
    "        self.fc_med = nn.Linear(self.max_length_meds * 2 * self.H, 2048)\n",
    "        self.fc_vitals = nn.Linear(self.max_length_vitals * 2 * self.H, 2048)\n",
    "        self.fc_lab = nn.Linear(self.max_length_lab * 2 * self.H, 2048)\n",
    "\n",
    "        self.fc_adm = nn.Linear(2 * self.H * (self.max_length_diags + self.max_length_demo) \\\n",
    "                                + self.observing_window * 3 * 2048 , 2048)\n",
    "\n",
    "        self.lstm_adm = nn.LSTM(input_size=2048,\n",
    "                            hidden_size=self.H,\n",
    "                            num_layers=2,\n",
    "                            batch_first=True,\n",
    "                            bidirectional=False)\n",
    "\n",
    "        self.drop = nn.Dropout(p=drop)\n",
    "        self.inner_drop = nn.Dropout(p=0.5)\n",
    "\n",
    "        # self.fc_2 = nn.Linear(self.H*2, 2)\n",
    "        self.projection = nn.Sequential(\n",
    "            nn.ReLU(),\n",
    "            nn.Linear(in_features=self.H, out_features=256)\n",
    "        )\n",
    "\n",
    "    def forward(self, tensor_demo, tensor_diags, tensor_med, tensor_vitals, tensor_labs):\n",
    "\n",
    "        batch_size = tensor_demo.size()[0]\n",
    "\n",
    "        # embeddings\n",
    "        out_emb_diags = self.embedding(tensor_diags.squeeze(1)) # [16, 37, 200]\n",
    "        out_emb_demo =  self.embedding(tensor_demo.squeeze(1))  # [16, 7, 200]\n",
    "        print(f'out_emb_diags: ', out_emb_diags.size())\n",
    "        print(f'out_emb_demo: ', out_emb_demo.size())\n",
    "        # lstm for demographic and diagnoses\n",
    "        out_lstm_diags, _ = self.lstm_day(out_emb_diags)    # [16, 37, 256]\n",
    "        out_lstm_demo, _ = self.lstm_day(out_emb_demo)      # [16, 7, 256]\n",
    "        print(f'out_lstm_diags: ', out_lstm_diags.size())\n",
    "        print(f'out_lstm_demo: ', out_lstm_demo.size())\n",
    "        # reshape and concat demographics and diags\n",
    "        out_lstm_diags_reshaped = out_lstm_diags.reshape(batch_size, self.max_length_diags * 2 * self.H)\n",
    "        out_lstm_demo_reshaped = out_lstm_demo.reshape(batch_size, self.max_length_demo * 2 * self.H)\n",
    "        print(f'out_lstm_diags_reshaped', out_lstm_diags_reshaped.size())\n",
    "        print(f'out_lstm_demo_reshaped', out_lstm_demo_reshaped.size())\n",
    "        full_output = torch.cat([out_lstm_demo_reshaped, out_lstm_diags_reshaped], dim=1)   # [16, 11264]\n",
    "        print(f'full_output', full_output.size())\n",
    "\n",
    "        for d in range(self.observing_window):\n",
    "            print('--------------')  \n",
    "            # embedding layer applied to all tensors \n",
    "            out_med_emb = self.embedding(tensor_med[:, d, :].squeeze(1))\n",
    "            out_vitals_emb = self.embedding(tensor_vitals[:, d, :].squeeze(1))\n",
    "            out_labs_emb = self.embedding(tensor_labs[:, d, :].squeeze(1))\n",
    "            print('out_med_emb', out_med_emb.size())\n",
    "            print('out_vitals_emb', out_vitals_emb.size())\n",
    "            print('out_labs_emb', out_labs_emb.size())\n",
    "\n",
    "            # lstm layer applied to embedded tensors\n",
    "            temp = self.lstm_day(out_med_emb)[0]\n",
    "            print(f'\\nlstm_day(out_med_emb)  {temp.size()} ==> [{batch_size}, {self.max_length_meds * 2 * self.H}]')\n",
    "            temp = temp.reshape(batch_size, self.max_length_meds * 2 * self.H)\n",
    "            output_lstm_med = self.inner_drop(self.fc_med(temp))\n",
    "            print(f'output_lstm_med {output_lstm_med.size()}')\n",
    "            # output_lstm_med = self.inner_drop(self.fc_med(\\\n",
    "            #                                     self.lstm_day(out_med_emb)[0]\\\n",
    "            #                                         .reshape(batch_size, self.max_length_meds * 2 * self.H)))\n",
    "\n",
    "            # output_lstm_vitals = self.inner_drop(self.fc_vitals(\\\n",
    "            #                                     self.lstm_day(out_vitals_emb)[0]\\\n",
    "            #                                         .reshape(batch_size, self.max_length_vitals * 2 * self.H)))\n",
    "            temp = self.lstm_day(out_vitals_emb)[0]\n",
    "            print(f'\\nlstm_day(out_vitals_emb)  {temp.size()} ==> [{batch_size}, {self.max_length_vitals * 2 * self.H}]')\n",
    "            temp = temp.reshape(batch_size, self.max_length_vitals * 2 * self.H)\n",
    "            output_lstm_vitals = self.inner_drop(self.fc_vitals(temp))\n",
    "            print(f'output_lstm_vitals {output_lstm_vitals.size()}')\n",
    "\n",
    "            # output_lstm_labs = self.inner_drop(self.fc_lab(\\\n",
    "            #                                     self.lstm_day(out_labs_emb)[0]\\\n",
    "            #                                         .reshape(batch_size, self.max_length_lab * 2 * self.H)))\n",
    "            temp = self.lstm_day(out_labs_emb)[0]\n",
    "            print(f'\\nlstm_day(out_labs_emb)  {temp.size()} ==> [{batch_size}, {self.max_length_lab * 2 * self.H}]')\n",
    "            temp = temp.reshape(batch_size, self.max_length_lab * 2 * self.H)\n",
    "            output_lstm_labs = self.inner_drop(self.fc_lab(temp))\n",
    "            print(f'output_lstm_labs {output_lstm_labs.size()}')   \n",
    "                         \n",
    "            # concatenate for all * days\n",
    "            full_output = torch.cat((full_output, \\\n",
    "                                        output_lstm_med,\\\n",
    "                                            output_lstm_vitals,\\\n",
    "                                                output_lstm_labs), dim=1) # \n",
    "\n",
    "        print('--------------')  \n",
    "        print('full_output size: ', full_output.size(), '\\n')\n",
    "        output = self.fc_adm(full_output)\n",
    "        print('fc_adm: ', output.size(), '\\n')\n",
    "        output_vector, _ = self.lstm_adm(output)\n",
    "        print('lstm_adm: ', output_vector.size(), '\\n')\n",
    "        # the fisrt transformation\n",
    "        output_vector_X = self.drop(output_vector)\n",
    "        projection_X = self.projection(output_vector_X)\n",
    "        # the second transformation\n",
    "        output_vector_Y = self.drop(output_vector)\n",
    "        projection_Y = self.projection(output_vector_Y)\n",
    "\n",
    "\n",
    "        return output_vector_X, projection_X, output_vector_Y, projection_Y"
   ]
  },
  {
   "cell_type": "code",
   "execution_count": 205,
   "metadata": {},
   "outputs": [],
   "source": [
    "def train(model,\n",
    "        optimizer,\n",
    "        train_loader,\n",
    "        valid_loader,\n",
    "        batch_size,\n",
    "        file_path,\n",
    "        embedding_size,\n",
    "        device='cpu',\n",
    "        num_epochs=2,\n",
    "        epoch_patience=10,\n",
    "        best_valid_loss = float(\"Inf\"),\n",
    "        dimension=128,\n",
    "        save_model=True,\n",
    "        temperature=0.1):\n",
    "\n",
    "    \n",
    "    train_running_loss = 0.0\n",
    "    valid_running_loss = 0.0\n",
    "    train_loss_list = []\n",
    "    valid_loss_list = []\n",
    "    total_train_steps = len(train_loader)\n",
    "    total_val_steps = len(valid_loader)\n",
    "    stop_training = 0\n",
    "\n",
    "\n",
    "    for epoch in range(num_epochs):\n",
    "            model.train()\n",
    "            train_step = 1\n",
    "            print(f'Epoch {epoch+1}/{num_epochs} training..')\n",
    "            criterion = ContrastiveLoss(batch_size=batch_size, device=device, temperature=temperature)\n",
    "\n",
    "            for  tensor_demo, tensor_diags, tensor_vitals, tensor_labs, tensor_meds, idx in train_loader:\n",
    "                if train_step % 100==0:\n",
    "                    print(f'Step {train_step}/{total_train_steps}')\n",
    "                # print(f'Step {train_step}/{total_train_steps}')\n",
    "\n",
    "                vector_X, projectionX, vector_Y, projectionY = model(tensor_demo.to(device), tensor_diags.to(device),\\\n",
    "                                                                    tensor_meds.to(device), tensor_vitals.to(device),\\\n",
    "                                                                    tensor_labs.to(device))\n",
    "                                        \n",
    "                if train_step >= total_train_steps:\n",
    "                        new_batch_size = projectionX.size()[0]\n",
    "                        criterion = ContrastiveLoss(batch_size=new_batch_size, device=device, temperature=temperature)\n",
    "                \n",
    "                loss = criterion(projectionX.type(torch.float32), projectionY.type(torch.float32))\n",
    "                #   print(loss.item())\n",
    "                optimizer.zero_grad()\n",
    "                loss.backward()\n",
    "                optimizer.step()\n",
    "\n",
    "                train_running_loss += loss.item()\n",
    "                train_step += 1\n",
    "\n",
    "                wandb.log({'step_train_loss': loss.item(), 'global_step': train_step})\n",
    "\n",
    "            epoch_average_train_loss = train_running_loss / len(train_loader)  \n",
    "\n",
    "            model.eval()\n",
    "            val_step = 1\n",
    "            print(f\"Validation started..\")\n",
    "            criterion = ContrastiveLoss(batch_size=batch_size, device=device, temperature=temperature)\n",
    "            with torch.no_grad():\n",
    "                for tensor_demo, tensor_diags, tensor_vitals, tensor_labs, tensor_meds, idx in valid_loader:\n",
    "                        vector_X, projectionX, vector_Y, projectionY = model(tensor_demo.to(device), tensor_diags.to(device),\\\n",
    "                                                                    tensor_meds.to(device), tensor_vitals.to(device),\\\n",
    "                                                                    tensor_labs.to(device))\n",
    "\n",
    "                        if val_step >= total_val_steps:\n",
    "                            new_batch_size = projectionX.size()[0]\n",
    "                            criterion = ContrastiveLoss(batch_size=new_batch_size, device=device, temperature=temperature)\n",
    "                                            \n",
    "                        loss = criterion(projectionX.type(torch.float32), projectionY.type(torch.float32))\n",
    "\n",
    "                        valid_running_loss += loss.item()\n",
    "                        val_step += 1\n",
    "                        \n",
    "\n",
    "            epoch_average_val_loss = valid_running_loss / len(valid_loader)\n",
    "\n",
    "            train_running_loss = 0.0\n",
    "            valid_running_loss = 0.0\n",
    "\n",
    "            print(f'Train loss {epoch_average_train_loss}, Validation loss {epoch_average_val_loss}')\n",
    "\n",
    "            wandb.log({'epoch_average_train_loss':epoch_average_train_loss, 'epoch_average_val_loss':epoch_average_val_loss, 'epoch':epoch+1})\n",
    "            \n",
    "            # checkpoint\n",
    "            if best_valid_loss > epoch_average_val_loss and save_model:\n",
    "                print(f'Validation loss decreased {best_valid_loss}==>{epoch_average_val_loss}')\n",
    "                best_valid_loss = epoch_average_val_loss\n",
    "                save_checkpoint(file_path + '/model.pt', model, optimizer, best_valid_loss)\n",
    "                wandb.save(file_path + '/model.pt')\n",
    "                stop_training = 0\n",
    "            else:\n",
    "                stop_training +=1\n",
    "            \n",
    "            if stop_training == epoch_patience:\n",
    "                break\n",
    "\n",
    "    print('Finished training!')"
   ]
  },
  {
   "cell_type": "code",
   "execution_count": 109,
   "metadata": {},
   "outputs": [],
   "source": [
    "new_fixed_model = True\n",
    "fixed_model_with_diags = False\n",
    "cont_model = False\n",
    "\n",
    "def main(project_name, num_epochs, pred_window, max_day, PRETRAINED_PATH=None, drop=0.1, \\\n",
    "    temperature=0.5, embedding_size=200, min_frequency=1, BATCH_SIZE=16, small_dataset=True, \\\n",
    "        LR=0.000005, save_model=False, use_gpu=True, saving_folder_name=None, wandb_mode = 'online', \\\n",
    "            run_id=None):\n",
    "    \n",
    "    if use_gpu:\n",
    "        device = torch.device('cuda' if torch.cuda.is_available() else 'cpu')\n",
    "    else:\n",
    "        device='cpu'\n",
    "    print('device: ', device)\n",
    "    \n",
    "    #paths\n",
    "    CURR_PATH = os.getcwd()\n",
    "    PKL_PATH = CURR_PATH+'/pickles/'\n",
    "    DF_PATH = '/home/svetlana.maslenkova/LSTM/dataframes/'\n",
    "    TXT_DIR_TRAIN = CURR_PATH + '/txt_files/train'\n",
    "    destination_folder = '/l/users/svetlana.maslenkova/models' + '/pretraining/fc1_fixed/'\n",
    "\n",
    "\n",
    "    # Training the tokenizer\n",
    "    if exists(CURR_PATH + '/tokenizer.json'):\n",
    "        tokenizer = Tokenizer.from_file(CURR_PATH + '/tokenizer.json')\n",
    "        print(f'Tokenizer is loaded from ==> {CURR_PATH}/tokenizer.json. Vocab size is {tokenizer.get_vocab_size()}')\n",
    "    else:\n",
    "        print('Training tokenizer...')\n",
    "        os.environ[\"TOKENIZERS_PARALLELISM\"] = \"true\"\n",
    "        tokenizer = Tokenizer(BPE(unk_token=\"UNK\"))\n",
    "        tokenizer.normalizer = normalizers.Sequence([Lowercase()])\n",
    "        # tokenizer.pre_tokenizer = pre_tokenizers.Sequence([Whitespace(), Digits(individual_digits=False), Punctuation( behavior = 'removed')])\n",
    "        tokenizer.pre_tokenizer = pre_tokenizers.Sequence([Whitespace(), Punctuation(behavior = 'isolated')])\n",
    "\n",
    "        trainer = BpeTrainer(special_tokens=[\"<s>\", \"</s>\", \"PAD\", \"UNK\", \"$\"], min_frequency=10)\n",
    "\n",
    "        files = glob.glob('/home/svetlana.maslenkova/LSTM/aki_prediction/txt_files/train'+'/*')\n",
    "        tokenizer.train(files, trainer)\n",
    "        tokenizer.post_processor = BertProcessing(\n",
    "                (\"</s>\", tokenizer.token_to_id(\"</s>\")),\n",
    "                (\"<s>\", tokenizer.token_to_id(\"<s>\")), \n",
    "                )\n",
    "        os.environ[\"TOKENIZERS_PARALLELISM\"] = \"false\"\n",
    "\n",
    "    # variables for classes\n",
    "    # max_length = {'demographics':5, 'lab_tests':400, 'vitals':200, 'medications':255}\n",
    "    max_length = {'demographics':5+2, 'diagnoses':35+2, 'lab_tests':300+2, 'vitals':31+2, 'medications':256+2}\n",
    "    vocab_size = tokenizer.get_vocab_size()\n",
    "    print(f'Vocab size: {vocab_size}')\n",
    "\n",
    "    with open(DF_PATH + 'pid_train_df_pretraining.pkl', 'rb') as f:\n",
    "        pid_train_df = pickle.load(f)\n",
    "\n",
    "    with open(DF_PATH + 'pid_val_df_pretraining.pkl', 'rb') as f:\n",
    "        pid_val_df = pickle.load(f)\n",
    "\n",
    "    if small_dataset: frac=0.0001 \n",
    "    else: frac=1\n",
    "    \n",
    "    pid_train_df_small = pid_train_df.sample(frac=frac)\n",
    "    pid_val_df_small = pid_val_df.sample(frac=frac)\n",
    "\n",
    "    if fixed_model_with_diags:\n",
    "        train_dataset = MyDataset(pid_train_df.sample(frac=frac), tokenizer=tokenizer, max_length_day=400)\n",
    "        train_loader = DataLoader(train_dataset, batch_size=BATCH_SIZE, shuffle=True)\n",
    "\n",
    "        val_dataset = MyDataset(pid_val_df.sample(frac=frac), tokenizer=tokenizer, max_length_day=400)\n",
    "        val_loader = DataLoader(val_dataset, batch_size=BATCH_SIZE, shuffle=True)\n",
    "\n",
    "    elif cont_model:\n",
    "        train_dataset = MyDataset(pid_train_df_small, tokenizer=tokenizer, max_length=max_length)\n",
    "        train_loader = DataLoader(train_dataset, batch_size=BATCH_SIZE, shuffle=True)\n",
    "\n",
    "        val_dataset = MyDataset(pid_val_df_small, tokenizer=tokenizer, max_length=max_length)\n",
    "        val_loader = DataLoader(val_dataset, batch_size=BATCH_SIZE, shuffle=True)\n",
    "\n",
    "    elif new_fixed_model:\n",
    "        train_dataset = MyDataset(pid_train_df.sample(frac=frac), tokenizer=tokenizer, max_length=max_length)\n",
    "        train_loader = DataLoader(train_dataset, batch_size=BATCH_SIZE, shuffle=True)\n",
    "\n",
    "        val_dataset = MyDataset(pid_val_df.sample(frac=frac), tokenizer=tokenizer, max_length=max_length)\n",
    "        val_loader = DataLoader(val_dataset, batch_size=BATCH_SIZE, shuffle=True)\n",
    "\n",
    "    print('DATA SHAPES: ')\n",
    "    print('train data shape: ', len(train_loader)*BATCH_SIZE)\n",
    "    print('val data shape: ', len(val_loader)*BATCH_SIZE)\n",
    "\n",
    "    if fixed_model_with_diags:\n",
    "        model = EHR_PRETRAINING(max_length=400, vocab_size=vocab_size, device=device).to(device)\n",
    "    elif cont_model:\n",
    "        model = EHR_model(embedding_size=embedding_size, vocab_size=vocab_size, max_length=max_length, pred_window=pred_window, max_day=max_day, drop=0.1).to(device)\n",
    "    elif new_fixed_model:\n",
    "        model = EHR_PRETRAINING(max_length=max_length, vocab_size=vocab_size, device=device, pred_window=2, observing_window=3,  H=128, embedding_size=200, drop=0.6)\n",
    "    \n",
    "    optimizer = optim.Adam(model.parameters(), lr=LR)\n",
    "    # Decay LR by a factor of 0.1 every 7 epochs\n",
    "    exp_lr_scheduler = lr_scheduler.StepLR(optimizer, step_size=7, gamma=0.1)\n",
    "\n",
    "    if PRETRAINED_PATH is not None:\n",
    "        load_checkpoint(PRETRAINED_PATH, model, optimizer, device=device)\n",
    "    \n",
    "    train_params = {'model':model,\n",
    "                    'optimizer':optimizer,\n",
    "                    'train_loader':train_loader,\n",
    "                    'valid_loader':val_loader,\n",
    "                    'batch_size':BATCH_SIZE,\n",
    "                    'embedding_size':embedding_size,\n",
    "                    'file_path':destination_folder,\n",
    "                    'num_epochs':num_epochs,\n",
    "                    'device':device,\n",
    "                    'save_model':save_model,\n",
    "                    'temperature':temperature\n",
    "    }\n",
    "\n",
    "    num_samples = (len(train_loader)+len(val_loader))*BATCH_SIZE // 1000\n",
    "\n",
    "    if saving_folder_name is None:\n",
    "        saving_folder_name = 'CL_WHOLE_FX_ND_' + '_bs' + str(BATCH_SIZE) +'_' + str(num_samples) + 'k' + '_lr'+ str(LR) + '_Adam' + '_temp' + str(temperature) + '_drop' + str(drop)\n",
    "    file_path = destination_folder + saving_folder_name\n",
    "    train_params['file_path'] = file_path\n",
    "\n",
    "    print(f'\\n\\nMODEL PATH: {file_path}')\n",
    "    if not os.path.exists(file_path):\n",
    "        os.makedirs(file_path)\n",
    "        \n",
    "    run_name = saving_folder_name\n",
    "    print('Run name: ', run_name)\n",
    "    args = {'optimizer':'Adam', 'LR':LR, 'min_frequency':min_frequency, 'dropout':drop, \\\n",
    "        'vocab_size':vocab_size, 'embedding_size':embedding_size, 'pretrained':'FC1', \\\n",
    "            'temperature':temperature, 'batch_size':BATCH_SIZE,  'experiment':'FX_DIAGS_ND', \\\n",
    "                'pretrained':'whole'}\n",
    "\n",
    "    if run_id is None:    \n",
    "        run_id = wandb.util.generate_id()  \n",
    "        resume = 'allow' \n",
    "    else:\n",
    "        resume = 'must'\n",
    "\n",
    "    print('Run id is: ', run_id)\n",
    "    wandb.init(project=project_name, name=run_name, mode=wandb_mode, config=args, id=run_id, resume=resume)\n",
    "    train(**train_params)\n",
    "    wandb.finish()"
   ]
  },
  {
   "cell_type": "code",
   "execution_count": 112,
   "metadata": {},
   "outputs": [
    {
     "name": "stdout",
     "output_type": "stream",
     "text": [
      "device:  cpu\n",
      "Training tokenizer...\n",
      "\n",
      "\n",
      "\n",
      "Vocab size: 22569\n",
      "DATA SHAPES: \n",
      "train data shape:  48\n",
      "val data shape:  16\n",
      "\n",
      "\n",
      "MODEL PATH: /l/users/svetlana.maslenkova/models/pretraining/fc1_fixed/test\n",
      "Run name:  test\n",
      "Run id is:  14bnw4hp\n",
      "Epoch 1/1 training..\n"
     ]
    },
    {
     "ename": "RuntimeError",
     "evalue": "shape '[16, 9472]' is invalid for input of size 143360",
     "output_type": "error",
     "traceback": [
      "\u001b[0;31m---------------------------------------------------------------------------\u001b[0m",
      "\u001b[0;31mRuntimeError\u001b[0m                              Traceback (most recent call last)",
      "\u001b[0;32m/tmp/ipykernel_2540000/711473782.py\u001b[0m in \u001b[0;36m<module>\u001b[0;34m\u001b[0m\n\u001b[1;32m      2\u001b[0m     \u001b[0mtemperature\u001b[0m\u001b[0;34m=\u001b[0m\u001b[0;36m0.1\u001b[0m\u001b[0;34m,\u001b[0m \u001b[0membedding_size\u001b[0m\u001b[0;34m=\u001b[0m\u001b[0;36m200\u001b[0m\u001b[0;34m,\u001b[0m \u001b[0mmin_frequency\u001b[0m\u001b[0;34m=\u001b[0m\u001b[0;36m5\u001b[0m\u001b[0;34m,\u001b[0m \u001b[0mBATCH_SIZE\u001b[0m\u001b[0;34m=\u001b[0m\u001b[0;36m16\u001b[0m\u001b[0;34m,\u001b[0m \u001b[0msmall_dataset\u001b[0m\u001b[0;34m=\u001b[0m\u001b[0;32mTrue\u001b[0m\u001b[0;34m,\u001b[0m\u001b[0;31m \u001b[0m\u001b[0;31m\\\u001b[0m\u001b[0;34m\u001b[0m\u001b[0;34m\u001b[0m\u001b[0m\n\u001b[1;32m      3\u001b[0m         \u001b[0mLR\u001b[0m\u001b[0;34m=\u001b[0m\u001b[0;36m0.00001\u001b[0m\u001b[0;34m,\u001b[0m \u001b[0msave_model\u001b[0m\u001b[0;34m=\u001b[0m\u001b[0;32mTrue\u001b[0m\u001b[0;34m,\u001b[0m \u001b[0muse_gpu\u001b[0m\u001b[0;34m=\u001b[0m\u001b[0;32mFalse\u001b[0m\u001b[0;34m,\u001b[0m \u001b[0msaving_folder_name\u001b[0m\u001b[0;34m=\u001b[0m\u001b[0;34m'test'\u001b[0m\u001b[0;34m,\u001b[0m \u001b[0mwandb_mode\u001b[0m \u001b[0;34m=\u001b[0m \u001b[0;34m'disabled'\u001b[0m\u001b[0;34m,\u001b[0m\u001b[0;31m \u001b[0m\u001b[0;31m\\\u001b[0m\u001b[0;34m\u001b[0m\u001b[0;34m\u001b[0m\u001b[0m\n\u001b[0;32m----> 4\u001b[0;31m             run_id=None)\n\u001b[0m",
      "\u001b[0;32m/tmp/ipykernel_2540000/2615113654.py\u001b[0m in \u001b[0;36mmain\u001b[0;34m(project_name, num_epochs, pred_window, max_day, PRETRAINED_PATH, drop, temperature, embedding_size, min_frequency, BATCH_SIZE, small_dataset, LR, save_model, use_gpu, saving_folder_name, wandb_mode, run_id)\u001b[0m\n\u001b[1;32m    140\u001b[0m     \u001b[0mprint\u001b[0m\u001b[0;34m(\u001b[0m\u001b[0;34m'Run id is: '\u001b[0m\u001b[0;34m,\u001b[0m \u001b[0mrun_id\u001b[0m\u001b[0;34m)\u001b[0m\u001b[0;34m\u001b[0m\u001b[0;34m\u001b[0m\u001b[0m\n\u001b[1;32m    141\u001b[0m     \u001b[0mwandb\u001b[0m\u001b[0;34m.\u001b[0m\u001b[0minit\u001b[0m\u001b[0;34m(\u001b[0m\u001b[0mproject\u001b[0m\u001b[0;34m=\u001b[0m\u001b[0mproject_name\u001b[0m\u001b[0;34m,\u001b[0m \u001b[0mname\u001b[0m\u001b[0;34m=\u001b[0m\u001b[0mrun_name\u001b[0m\u001b[0;34m,\u001b[0m \u001b[0mmode\u001b[0m\u001b[0;34m=\u001b[0m\u001b[0mwandb_mode\u001b[0m\u001b[0;34m,\u001b[0m \u001b[0mconfig\u001b[0m\u001b[0;34m=\u001b[0m\u001b[0margs\u001b[0m\u001b[0;34m,\u001b[0m \u001b[0mid\u001b[0m\u001b[0;34m=\u001b[0m\u001b[0mrun_id\u001b[0m\u001b[0;34m,\u001b[0m \u001b[0mresume\u001b[0m\u001b[0;34m=\u001b[0m\u001b[0mresume\u001b[0m\u001b[0;34m)\u001b[0m\u001b[0;34m\u001b[0m\u001b[0;34m\u001b[0m\u001b[0m\n\u001b[0;32m--> 142\u001b[0;31m     \u001b[0mtrain\u001b[0m\u001b[0;34m(\u001b[0m\u001b[0;34m**\u001b[0m\u001b[0mtrain_params\u001b[0m\u001b[0;34m)\u001b[0m\u001b[0;34m\u001b[0m\u001b[0;34m\u001b[0m\u001b[0m\n\u001b[0m\u001b[1;32m    143\u001b[0m     \u001b[0mwandb\u001b[0m\u001b[0;34m.\u001b[0m\u001b[0mfinish\u001b[0m\u001b[0;34m(\u001b[0m\u001b[0;34m)\u001b[0m\u001b[0;34m\u001b[0m\u001b[0;34m\u001b[0m\u001b[0m\n",
      "\u001b[0;32m/tmp/ipykernel_2540000/1115800015.py\u001b[0m in \u001b[0;36mtrain\u001b[0;34m(model, optimizer, train_loader, valid_loader, batch_size, file_path, embedding_size, device, num_epochs, epoch_patience, best_valid_loss, dimension, save_model, temperature)\u001b[0m\n\u001b[1;32m     37\u001b[0m                 vector_X, projectionX, vector_Y, projectionY = model(tensor_demo.to(device), tensor_diags.to(device),\\\n\u001b[1;32m     38\u001b[0m                                                                     \u001b[0mtensor_meds\u001b[0m\u001b[0;34m.\u001b[0m\u001b[0mto\u001b[0m\u001b[0;34m(\u001b[0m\u001b[0mdevice\u001b[0m\u001b[0;34m)\u001b[0m\u001b[0;34m,\u001b[0m \u001b[0mtensor_vitals\u001b[0m\u001b[0;34m.\u001b[0m\u001b[0mto\u001b[0m\u001b[0;34m(\u001b[0m\u001b[0mdevice\u001b[0m\u001b[0;34m)\u001b[0m\u001b[0;34m,\u001b[0m\u001b[0;31m\\\u001b[0m\u001b[0;34m\u001b[0m\u001b[0;34m\u001b[0m\u001b[0m\n\u001b[0;32m---> 39\u001b[0;31m                                                                     tensor_labs.to(device))\n\u001b[0m\u001b[1;32m     40\u001b[0m \u001b[0;34m\u001b[0m\u001b[0m\n\u001b[1;32m     41\u001b[0m                 \u001b[0;32mif\u001b[0m \u001b[0mtrain_step\u001b[0m \u001b[0;34m>=\u001b[0m \u001b[0mtotal_train_steps\u001b[0m\u001b[0;34m:\u001b[0m\u001b[0;34m\u001b[0m\u001b[0;34m\u001b[0m\u001b[0m\n",
      "\u001b[0;32m~/conda_envs/torch/lib/python3.7/site-packages/torch/nn/modules/module.py\u001b[0m in \u001b[0;36m_call_impl\u001b[0;34m(self, *input, **kwargs)\u001b[0m\n\u001b[1;32m   1108\u001b[0m         if not (self._backward_hooks or self._forward_hooks or self._forward_pre_hooks or _global_backward_hooks\n\u001b[1;32m   1109\u001b[0m                 or _global_forward_hooks or _global_forward_pre_hooks):\n\u001b[0;32m-> 1110\u001b[0;31m             \u001b[0;32mreturn\u001b[0m \u001b[0mforward_call\u001b[0m\u001b[0;34m(\u001b[0m\u001b[0;34m*\u001b[0m\u001b[0minput\u001b[0m\u001b[0;34m,\u001b[0m \u001b[0;34m**\u001b[0m\u001b[0mkwargs\u001b[0m\u001b[0;34m)\u001b[0m\u001b[0;34m\u001b[0m\u001b[0;34m\u001b[0m\u001b[0m\n\u001b[0m\u001b[1;32m   1111\u001b[0m         \u001b[0;31m# Do not call functions when jit is used\u001b[0m\u001b[0;34m\u001b[0m\u001b[0;34m\u001b[0m\u001b[0;34m\u001b[0m\u001b[0m\n\u001b[1;32m   1112\u001b[0m         \u001b[0mfull_backward_hooks\u001b[0m\u001b[0;34m,\u001b[0m \u001b[0mnon_full_backward_hooks\u001b[0m \u001b[0;34m=\u001b[0m \u001b[0;34m[\u001b[0m\u001b[0;34m]\u001b[0m\u001b[0;34m,\u001b[0m \u001b[0;34m[\u001b[0m\u001b[0;34m]\u001b[0m\u001b[0;34m\u001b[0m\u001b[0;34m\u001b[0m\u001b[0m\n",
      "\u001b[0;32m/tmp/ipykernel_2540000/2208218639.py\u001b[0m in \u001b[0;36mforward\u001b[0;34m(self, tensor_demo, tensor_diags, tensor_med, tensor_vitals, tensor_labs)\u001b[0m\n\u001b[1;32m     60\u001b[0m \u001b[0;34m\u001b[0m\u001b[0m\n\u001b[1;32m     61\u001b[0m         \u001b[0;31m# reshape and concat demographics and diags\u001b[0m\u001b[0;34m\u001b[0m\u001b[0;34m\u001b[0m\u001b[0;34m\u001b[0m\u001b[0m\n\u001b[0;32m---> 62\u001b[0;31m         \u001b[0mout_lstm_diags_reshaped\u001b[0m \u001b[0;34m=\u001b[0m \u001b[0mout_lstm_diags\u001b[0m\u001b[0;34m.\u001b[0m\u001b[0mreshape\u001b[0m\u001b[0;34m(\u001b[0m\u001b[0mbatch_size\u001b[0m\u001b[0;34m,\u001b[0m \u001b[0mself\u001b[0m\u001b[0;34m.\u001b[0m\u001b[0mmax_length_diags\u001b[0m \u001b[0;34m*\u001b[0m \u001b[0;36m2\u001b[0m \u001b[0;34m*\u001b[0m \u001b[0mself\u001b[0m\u001b[0;34m.\u001b[0m\u001b[0mH\u001b[0m\u001b[0;34m)\u001b[0m\u001b[0;34m\u001b[0m\u001b[0;34m\u001b[0m\u001b[0m\n\u001b[0m\u001b[1;32m     63\u001b[0m         \u001b[0mout_lstm_demo_reshaped\u001b[0m \u001b[0;34m=\u001b[0m \u001b[0mout_lstm_demo\u001b[0m\u001b[0;34m.\u001b[0m\u001b[0mreshape\u001b[0m\u001b[0;34m(\u001b[0m\u001b[0mbatch_size\u001b[0m\u001b[0;34m,\u001b[0m \u001b[0mself\u001b[0m\u001b[0;34m.\u001b[0m\u001b[0mmax_length_demo\u001b[0m \u001b[0;34m*\u001b[0m \u001b[0;36m2\u001b[0m \u001b[0;34m*\u001b[0m \u001b[0mself\u001b[0m\u001b[0;34m.\u001b[0m\u001b[0mH\u001b[0m\u001b[0;34m)\u001b[0m\u001b[0;34m\u001b[0m\u001b[0;34m\u001b[0m\u001b[0m\n\u001b[1;32m     64\u001b[0m \u001b[0;34m\u001b[0m\u001b[0m\n",
      "\u001b[0;31mRuntimeError\u001b[0m: shape '[16, 9472]' is invalid for input of size 143360"
     ]
    }
   ],
   "source": [
    "main(project_name='test', num_epochs=1, pred_window=None, max_day=None, PRETRAINED_PATH=None, drop=0.1, \\\n",
    "    temperature=0.1, embedding_size=200, min_frequency=5, BATCH_SIZE=16, small_dataset=True, \\\n",
    "        LR=0.00001, save_model=True, use_gpu=False, saving_folder_name='test', wandb_mode = 'disabled', \\\n",
    "            run_id=None)"
   ]
  },
  {
   "cell_type": "code",
   "execution_count": 6,
   "metadata": {},
   "outputs": [
    {
     "name": "stdout",
     "output_type": "stream",
     "text": [
      "Tokenizer is loaded from ==> /home/svetlana.maslenkova/LSTM/aki_prediction/pretraining/tokenizer.json. Vocab size is 22569\n"
     ]
    }
   ],
   "source": [
    "#paths\n",
    "CURR_PATH = os.getcwd()\n",
    "PKL_PATH = CURR_PATH+'/pickles/'\n",
    "DF_PATH = '/home/svetlana.maslenkova/LSTM/dataframes/'\n",
    "TXT_DIR_TRAIN = CURR_PATH + '/txt_files/train'\n",
    "destination_folder = '/l/users/svetlana.maslenkova/models' + '/pretraining/fc1_fixed/'\n",
    "\n",
    "# Training the tokenizer\n",
    "if exists(CURR_PATH + '/tokenizer.json'):\n",
    "    tokenizer = Tokenizer.from_file(CURR_PATH + '/tokenizer.json')\n",
    "    print(f'Tokenizer is loaded from ==> {CURR_PATH}/tokenizer.json. Vocab size is {tokenizer.get_vocab_size()}')\n",
    "else:\n",
    "    print('Training tokenizer...')\n",
    "    os.environ[\"TOKENIZERS_PARALLELISM\"] = \"true\"\n",
    "    tokenizer = Tokenizer(BPE(unk_token=\"UNK\"))\n",
    "    tokenizer.normalizer = normalizers.Sequence([Lowercase()])\n",
    "    # tokenizer.pre_tokenizer = pre_tokenizers.Sequence([Whitespace(), Digits(individual_digits=False), Punctuation( behavior = 'removed')])\n",
    "    tokenizer.pre_tokenizer = pre_tokenizers.Sequence([Whitespace(), Punctuation(behavior = 'isolated')])\n",
    "\n",
    "    trainer = BpeTrainer(special_tokens=[\"<s>\", \"</s>\", \"PAD\", \"UNK\", \"$\"], min_frequency=10)\n",
    "\n",
    "    files = glob.glob('/home/svetlana.maslenkova/LSTM/aki_prediction/txt_files/train'+'/*')\n",
    "    tokenizer.train(files, trainer)\n",
    "    tokenizer.post_processor = BertProcessing(\n",
    "            (\"</s>\", tokenizer.token_to_id(\"</s>\")),\n",
    "            (\"<s>\", tokenizer.token_to_id(\"<s>\")), \n",
    "            )\n",
    "    os.environ[\"TOKENIZERS_PARALLELISM\"] = \"false\"\n",
    "    tokenizer.save(CURR_PATH + '/tokenizer.json')\n"
   ]
  },
  {
   "cell_type": "code",
   "execution_count": 7,
   "metadata": {},
   "outputs": [
    {
     "name": "stdout",
     "output_type": "stream",
     "text": [
      "Vocab size: 22569\n"
     ]
    }
   ],
   "source": [
    "device='cpu'\n",
    "max_length = {'demographics':5+2, 'diagnoses':35+2, 'lab_tests':300+2, 'vitals':31+2, 'medications':256+2}\n",
    "vocab_size = tokenizer.get_vocab_size()\n",
    "print(f'Vocab size: {vocab_size}')\n",
    "\n",
    "small_dataset = True\n",
    "BATCH_SIZE = 128\n",
    "LR = 0.00001"
   ]
  },
  {
   "cell_type": "code",
   "execution_count": 191,
   "metadata": {},
   "outputs": [],
   "source": [
    "with open(DF_PATH + 'pid_train_df_pretraining.pkl', 'rb') as f:\n",
    "    pid_train_df = pickle.load(f)\n",
    "\n",
    "with open(DF_PATH + 'pid_val_df_pretraining.pkl', 'rb') as f:\n",
    "    pid_val_df = pickle.load(f)\n",
    "\n",
    "if small_dataset: frac=0.0001 \n",
    "else: frac=1\n",
    "\n",
    "pid_train_df_small = pid_train_df.sample(frac=frac)\n",
    "pid_val_df_small = pid_val_df.sample(frac=frac)"
   ]
  },
  {
   "cell_type": "code",
   "execution_count": 284,
   "metadata": {},
   "outputs": [
    {
     "name": "stdout",
     "output_type": "stream",
     "text": [
      "new_fixed_model\n"
     ]
    }
   ],
   "source": [
    "if fixed_model_with_diags:\n",
    "    train_dataset = MyDataset(pid_train_df.sample(frac=frac), tokenizer=tokenizer, max_length_day=400)\n",
    "    train_loader = DataLoader(train_dataset, batch_size=BATCH_SIZE, shuffle=True)\n",
    "\n",
    "    val_dataset = MyDataset(pid_val_df.sample(frac=frac), tokenizer=tokenizer, max_length_day=400)\n",
    "    val_loader = DataLoader(val_dataset, batch_size=BATCH_SIZE, shuffle=True)\n",
    "\n",
    "elif cont_model:\n",
    "    train_dataset = MyDataset(pid_train_df_small, tokenizer=tokenizer, max_length=max_length)\n",
    "    train_loader = DataLoader(train_dataset, batch_size=BATCH_SIZE, shuffle=True)\n",
    "\n",
    "    val_dataset = MyDataset(pid_val_df_small, tokenizer=tokenizer, max_length=max_length)\n",
    "    val_loader = DataLoader(val_dataset, batch_size=BATCH_SIZE, shuffle=True)\n",
    "\n",
    "elif new_fixed_model:\n",
    "    print(f'new_fixed_model')\n",
    "    train_dataset = MyDataset(pid_train_df.sample(frac=frac), tokenizer=tokenizer, max_length=max_length)\n",
    "    train_loader = DataLoader(train_dataset, batch_size=BATCH_SIZE, shuffle=True)\n",
    "\n",
    "    val_dataset = MyDataset(pid_val_df.sample(frac=frac), tokenizer=tokenizer, max_length=max_length)\n",
    "    val_loader = DataLoader(val_dataset, batch_size=BATCH_SIZE, shuffle=True)\n",
    "\n",
    "\n",
    "if fixed_model_with_diags:\n",
    "    model = EHR_PRETRAINING(max_length=400, vocab_size=vocab_size, device=device).to(device)\n",
    "elif cont_model:\n",
    "    model = EHR_model(embedding_size=embedding_size, vocab_size=vocab_size, max_length=max_length, pred_window=pred_window, max_day=max_day, drop=0.1).to(device)\n",
    "elif new_fixed_model:\n",
    "    pretrained_model = EHR_PRETRAINING(max_length=max_length, vocab_size=vocab_size, device=device, pred_window=2, observing_window=3,  H=128, embedding_size=200, drop=0.6)\n"
   ]
  },
  {
   "cell_type": "code",
   "execution_count": 193,
   "metadata": {},
   "outputs": [],
   "source": [
    "embedding_size = 200\n",
    "num_epochs = 1\n",
    "save_model = False\n",
    "temperature = 0.1"
   ]
  },
  {
   "cell_type": "code",
   "execution_count": 203,
   "metadata": {},
   "outputs": [],
   "source": [
    "optimizer = optim.Adam(model.parameters(), lr=LR)\n",
    "\n",
    "train_params = {'model':model,\n",
    "                'optimizer':optimizer,\n",
    "                'train_loader':train_loader,\n",
    "                'valid_loader':val_loader,\n",
    "                'batch_size':BATCH_SIZE,\n",
    "                'embedding_size':embedding_size,\n",
    "                'file_path':destination_folder,\n",
    "                'num_epochs':num_epochs,\n",
    "                'device':device,\n",
    "                'save_model':save_model,\n",
    "                'temperature':temperature\n",
    "}"
   ]
  },
  {
   "cell_type": "code",
   "execution_count": 206,
   "metadata": {},
   "outputs": [
    {
     "name": "stdout",
     "output_type": "stream",
     "text": [
      "Epoch 1/1 training..\n",
      "out_emb_diags:  torch.Size([36, 37, 200])\n",
      "out_emb_demo:  torch.Size([36, 7, 200])\n",
      "out_lstm_diags:  torch.Size([36, 37, 256])\n",
      "out_lstm_demo:  torch.Size([36, 7, 256])\n",
      "out_lstm_diags_reshaped torch.Size([36, 9472])\n",
      "out_lstm_demo_reshaped torch.Size([36, 1792])\n",
      "full_output torch.Size([36, 11264])\n",
      "out_med_emb torch.Size([36, 258, 200])\n",
      "out_vitals_emb torch.Size([36, 33, 200])\n",
      "out_labs_emb torch.Size([36, 302, 200])\n",
      "output_lstm_med torch.Size([36, 2048])\n",
      "output_lstm_vitals torch.Size([36, 2048])\n",
      "output_lstm_labs torch.Size([36, 2048])\n",
      "--------------\n",
      "out_med_emb torch.Size([36, 258, 200])\n",
      "out_vitals_emb torch.Size([36, 33, 200])\n",
      "out_labs_emb torch.Size([36, 302, 200])\n",
      "output_lstm_med torch.Size([36, 2048])\n",
      "output_lstm_vitals torch.Size([36, 2048])\n",
      "output_lstm_labs torch.Size([36, 2048])\n",
      "--------------\n",
      "out_med_emb torch.Size([36, 258, 200])\n",
      "out_vitals_emb torch.Size([36, 33, 200])\n",
      "out_labs_emb torch.Size([36, 302, 200])\n",
      "output_lstm_med torch.Size([36, 2048])\n",
      "output_lstm_vitals torch.Size([36, 2048])\n",
      "output_lstm_labs torch.Size([36, 2048])\n",
      "--------------\n",
      "full_output size:  torch.Size([36, 29696]) \n",
      "\n",
      "fc_adm:  torch.Size([36, 2048]) \n",
      "\n",
      "output_vector:  torch.Size([36, 128]) \n",
      "\n",
      "Validation started..\n",
      "out_emb_diags:  torch.Size([2, 37, 200])\n",
      "out_emb_demo:  torch.Size([2, 7, 200])\n",
      "out_lstm_diags:  torch.Size([2, 37, 256])\n",
      "out_lstm_demo:  torch.Size([2, 7, 256])\n",
      "out_lstm_diags_reshaped torch.Size([2, 9472])\n",
      "out_lstm_demo_reshaped torch.Size([2, 1792])\n",
      "full_output torch.Size([2, 11264])\n",
      "out_med_emb torch.Size([2, 258, 200])\n",
      "out_vitals_emb torch.Size([2, 33, 200])\n",
      "out_labs_emb torch.Size([2, 302, 200])\n",
      "output_lstm_med torch.Size([2, 2048])\n",
      "output_lstm_vitals torch.Size([2, 2048])\n",
      "output_lstm_labs torch.Size([2, 2048])\n",
      "--------------\n",
      "out_med_emb torch.Size([2, 258, 200])\n",
      "out_vitals_emb torch.Size([2, 33, 200])\n",
      "out_labs_emb torch.Size([2, 302, 200])\n",
      "output_lstm_med torch.Size([2, 2048])\n",
      "output_lstm_vitals torch.Size([2, 2048])\n",
      "output_lstm_labs torch.Size([2, 2048])\n",
      "--------------\n",
      "out_med_emb torch.Size([2, 258, 200])\n",
      "out_vitals_emb torch.Size([2, 33, 200])\n",
      "out_labs_emb torch.Size([2, 302, 200])\n",
      "output_lstm_med torch.Size([2, 2048])\n",
      "output_lstm_vitals torch.Size([2, 2048])\n",
      "output_lstm_labs torch.Size([2, 2048])\n",
      "--------------\n",
      "full_output size:  torch.Size([2, 29696]) \n",
      "\n",
      "fc_adm:  torch.Size([2, 2048]) \n",
      "\n",
      "output_vector:  torch.Size([2, 128]) \n",
      "\n",
      "Train loss 4.495946884155273, Validation loss 1.0028973817825317\n",
      "Finished training!\n"
     ]
    }
   ],
   "source": [
    "train(**train_params)"
   ]
  },
  {
   "cell_type": "code",
   "execution_count": 210,
   "metadata": {},
   "outputs": [
    {
     "name": "stdout",
     "output_type": "stream",
     "text": [
      "out_emb_diags:  torch.Size([36, 37, 200])\n",
      "out_emb_demo:  torch.Size([36, 7, 200])\n",
      "out_lstm_diags:  torch.Size([36, 37, 256])\n",
      "out_lstm_demo:  torch.Size([36, 7, 256])\n",
      "out_lstm_diags_reshaped torch.Size([36, 9472])\n",
      "out_lstm_demo_reshaped torch.Size([36, 1792])\n",
      "full_output torch.Size([36, 11264])\n",
      "--------------\n",
      "out_med_emb torch.Size([36, 258, 200])\n",
      "out_vitals_emb torch.Size([36, 33, 200])\n",
      "out_labs_emb torch.Size([36, 302, 200])\n",
      "\n",
      "lstm_day(out_med_emb)  torch.Size([36, 258, 256]) ==> [36, 66048]\n",
      "output_lstm_med torch.Size([36, 2048])\n",
      "\n",
      "lstm_day(out_vitals_emb)  torch.Size([36, 33, 256]) ==> [36, 8448]\n",
      "output_lstm_vitals torch.Size([36, 2048])\n",
      "\n",
      "lstm_day(out_labs_emb)  torch.Size([36, 302, 256]) ==> [36, 77312]\n",
      "output_lstm_labs torch.Size([36, 2048])\n",
      "--------------\n",
      "out_med_emb torch.Size([36, 258, 200])\n",
      "out_vitals_emb torch.Size([36, 33, 200])\n",
      "out_labs_emb torch.Size([36, 302, 200])\n",
      "\n",
      "lstm_day(out_med_emb)  torch.Size([36, 258, 256]) ==> [36, 66048]\n",
      "output_lstm_med torch.Size([36, 2048])\n",
      "\n",
      "lstm_day(out_vitals_emb)  torch.Size([36, 33, 256]) ==> [36, 8448]\n",
      "output_lstm_vitals torch.Size([36, 2048])\n",
      "\n",
      "lstm_day(out_labs_emb)  torch.Size([36, 302, 256]) ==> [36, 77312]\n",
      "output_lstm_labs torch.Size([36, 2048])\n",
      "--------------\n",
      "out_med_emb torch.Size([36, 258, 200])\n",
      "out_vitals_emb torch.Size([36, 33, 200])\n",
      "out_labs_emb torch.Size([36, 302, 200])\n",
      "\n",
      "lstm_day(out_med_emb)  torch.Size([36, 258, 256]) ==> [36, 66048]\n",
      "output_lstm_med torch.Size([36, 2048])\n",
      "\n",
      "lstm_day(out_vitals_emb)  torch.Size([36, 33, 256]) ==> [36, 8448]\n",
      "output_lstm_vitals torch.Size([36, 2048])\n",
      "\n",
      "lstm_day(out_labs_emb)  torch.Size([36, 302, 256]) ==> [36, 77312]\n",
      "output_lstm_labs torch.Size([36, 2048])\n",
      "--------------\n",
      "full_output size:  torch.Size([36, 29696]) \n",
      "\n",
      "fc_adm:  torch.Size([36, 2048]) \n",
      "\n",
      "output_vector:  torch.Size([36, 128]) \n",
      "\n"
     ]
    }
   ],
   "source": [
    "tensor_demo, tensor_diags, tensor_vitals, tensor_labs, tensor_meds, idx = next(iter(train_loader))\n",
    "\n",
    "vector_X, projectionX, vector_Y, projectionY = model(tensor_demo.to(device), tensor_diags.to(device),\\\n",
    "                                                    tensor_meds.to(device), tensor_vitals.to(device),\\\n",
    "                                                    tensor_labs.to(device))"
   ]
  },
  {
   "cell_type": "code",
   "execution_count": 209,
   "metadata": {},
   "outputs": [],
   "source": [
    "max_length = {'demographics':5+2, 'diagnoses':35+2, 'lab_tests':300+2, 'vitals':31+2, 'medications':256+2}\n",
    "tensor_demo, tensor_diags, tensor_vitals, tensor_labs, tensor_meds, idx = next(iter(train_loader))\n",
    "model = EHR_PRETRAINING(max_length=max_length, vocab_size=vocab_size, device=device, pred_window=2, observing_window=3,  H=128, embedding_size=200, drop=0.6)"
   ]
  },
  {
   "cell_type": "code",
   "execution_count": 183,
   "metadata": {},
   "outputs": [
    {
     "data": {
      "text/plain": [
       "torch.Size([16, 35])"
      ]
     },
     "execution_count": 183,
     "metadata": {},
     "output_type": "execute_result"
    }
   ],
   "source": [
    "tensor_diags.size()"
   ]
  },
  {
   "cell_type": "code",
   "execution_count": 6,
   "metadata": {},
   "outputs": [],
   "source": [
    "#paths\n",
    "CURR_PATH = os.getcwd()\n",
    "PKL_PATH = CURR_PATH+'/pickles/'\n",
    "DF_PATH = CURR_PATH +'/dataframes/'\n",
    "TXT_DIR_TRAIN = CURR_PATH + '/txt_files/train'\n",
    "destination_folder = '/l/users/svetlana.maslenkova/models' + '/pretraining/fc1_fixed/'"
   ]
  },
  {
   "cell_type": "code",
   "execution_count": 153,
   "metadata": {},
   "outputs": [],
   "source": [
    "# tokenizer = Tokenizer.from_file('/home/svetlana.maslenkova/LSTM/aki_prediction/tokenizer.json')\n",
    "# print(f' Vocab size is {tokenizer.get_vocab_size()}')\n",
    "\n",
    "with open('/home/svetlana.maslenkova/LSTM/dataframes/pid_train_df_pretraining.pkl', 'rb') as f:\n",
    "    pid_train_df = pickle.load(f)\n"
   ]
  },
  {
   "cell_type": "code",
   "execution_count": 8,
   "metadata": {},
   "outputs": [
    {
     "data": {
      "text/html": [
       "<div>\n",
       "<style scoped>\n",
       "    .dataframe tbody tr th:only-of-type {\n",
       "        vertical-align: middle;\n",
       "    }\n",
       "\n",
       "    .dataframe tbody tr th {\n",
       "        vertical-align: top;\n",
       "    }\n",
       "\n",
       "    .dataframe thead th {\n",
       "        text-align: right;\n",
       "    }\n",
       "</style>\n",
       "<table border=\"1\" class=\"dataframe\">\n",
       "  <thead>\n",
       "    <tr style=\"text-align: right;\">\n",
       "      <th></th>\n",
       "      <th>subject_id</th>\n",
       "      <th>hadm_id</th>\n",
       "      <th>demographics_in_visit</th>\n",
       "      <th>lab_tests_in_visit</th>\n",
       "      <th>medications_in_visit</th>\n",
       "      <th>vitals_in_visit</th>\n",
       "      <th>days_in_visit</th>\n",
       "      <th>previous_diagnoses</th>\n",
       "      <th>days</th>\n",
       "    </tr>\n",
       "  </thead>\n",
       "  <tbody>\n",
       "    <tr>\n",
       "      <th>0</th>\n",
       "      <td>10467237</td>\n",
       "      <td>20000019</td>\n",
       "      <td>[hispanic latino f 76  , hispanic latino f 76 ...</td>\n",
       "      <td>[hematology blood hematocrit  26.5  %; hematol...</td>\n",
       "      <td>[pneumococcal 23-valent polysaccharide vaccine...</td>\n",
       "      <td>[temp  98.0  heartrate  65.0  resprate  16.0  ...</td>\n",
       "      <td>[hispanic latino f 76  $temp  98.0  heartrate ...</td>\n",
       "      <td></td>\n",
       "      <td>[0, 1, 2]</td>\n",
       "    </tr>\n",
       "  </tbody>\n",
       "</table>\n",
       "</div>"
      ],
      "text/plain": [
       "   subject_id   hadm_id                              demographics_in_visit  \\\n",
       "0    10467237  20000019  [hispanic latino f 76  , hispanic latino f 76 ...   \n",
       "\n",
       "                                  lab_tests_in_visit  \\\n",
       "0  [hematology blood hematocrit  26.5  %; hematol...   \n",
       "\n",
       "                                medications_in_visit  \\\n",
       "0  [pneumococcal 23-valent polysaccharide vaccine...   \n",
       "\n",
       "                                     vitals_in_visit  \\\n",
       "0  [temp  98.0  heartrate  65.0  resprate  16.0  ...   \n",
       "\n",
       "                                       days_in_visit previous_diagnoses  \\\n",
       "0  [hispanic latino f 76  $temp  98.0  heartrate ...                      \n",
       "\n",
       "        days  \n",
       "0  [0, 1, 2]  "
      ]
     },
     "execution_count": 8,
     "metadata": {},
     "output_type": "execute_result"
    }
   ],
   "source": [
    "pid_train_df.head(1)"
   ]
  },
  {
   "cell_type": "code",
   "execution_count": null,
   "metadata": {},
   "outputs": [],
   "source": [
    "i = 0\n",
    "LIST_HADMS = []\n",
    "list_diags = []\n",
    "# for _, row in pid_val_df.iterrows():\n",
    "#     # try:\n",
    "#     #     list_diags.append(row.previous_diagnoses[0].replace('PAD ', '').replace('PAD', ''))\n",
    "#     #     LIST_HADMS.append(row.hadm_id)\n",
    "#     # except:\n",
    "#     #     print(row.previous_diagnoses[0])\n",
    "#     #     print(np.isnan(row.previous_diagnoses[0]))\n",
    "#     #     break\n",
    "#     try:\n",
    "#         if isinstance(row.previous_diagnoses[0], float):\n",
    "#             list_diags.append('')      \n",
    "#         else:\n",
    "#             list_diags.append(row.previous_diagnoses[0].replace('PAD ', '').replace('PAD', ''))  \n",
    "#         LIST_HADMS.append(row.hadm_id) \n",
    "#     except:\n",
    "#         print(row.previous_diagnoses[0])\n",
    "#         print(type(row.previous_diagnoses[0]))\n",
    "#         raise\n",
    "#         break\n",
    "\n",
    "#     i+=1\n",
    "#     # if i>0:break\n",
    "\n",
    "pid_train_df['previous_diags'] = [val.replace('PAD ', '').replace('PAD', '') if not isinstance(val, float) else '' for val in pid_train_df['previous_diags']]"
   ]
  },
  {
   "cell_type": "markdown",
   "metadata": {},
   "source": [
    "# Tokenizer"
   ]
  },
  {
   "cell_type": "code",
   "execution_count": 228,
   "metadata": {},
   "outputs": [
    {
     "name": "stdout",
     "output_type": "stream",
     "text": [
      "Training tokenizer...\n",
      "\n",
      "\n",
      "\n",
      "Vocab size is 22569\n"
     ]
    }
   ],
   "source": [
    "from tokenizers.pre_tokenizers import Digits, Punctuation, Whitespace\n",
    "from tokenizers.normalizers import Lowercase, Replace\n",
    "from tokenizers import pre_tokenizers, normalizers\n",
    "from tokenizers.processors import BertProcessing\n",
    "\n",
    "print('Training tokenizer...')\n",
    "os.environ[\"TOKENIZERS_PARALLELISM\"] = \"true\"\n",
    "tokenizer = Tokenizer(BPE(unk_token=\"UNK\"))\n",
    "tokenizer.normalizer = normalizers.Sequence([Lowercase()])\n",
    "# tokenizer.pre_tokenizer = pre_tokenizers.Sequence([Whitespace(), Digits(individual_digits=False), Punctuation( behavior = 'removed')])\n",
    "tokenizer.pre_tokenizer = pre_tokenizers.Sequence([Whitespace(), Punctuation(behavior = 'isolated')])\n",
    "\n",
    "trainer = BpeTrainer(special_tokens=[\"<s>\", \"</s>\", \"PAD\", \"UNK\", \"$\"], min_frequency=10)\n",
    "\n",
    "files = glob.glob('/home/svetlana.maslenkova/LSTM/aki_prediction/txt_files/train'+'/*')\n",
    "tokenizer.train(files, trainer)\n",
    "tokenizer.post_processor = BertProcessing(\n",
    "        (\"</s>\", tokenizer.token_to_id(\"</s>\")),\n",
    "        (\"<s>\", tokenizer.token_to_id(\"<s>\")), \n",
    "        )\n",
    "os.environ[\"TOKENIZERS_PARALLELISM\"] = \"false\"\n",
    "print(f'Vocab size is {tokenizer.get_vocab_size()}')\n",
    "tokenizer.save('/home/svetlana.maslenkova/LSTM' + '/tokenizer.json')"
   ]
  },
  {
   "cell_type": "code",
   "execution_count": 229,
   "metadata": {},
   "outputs": [
    {
     "name": "stdout",
     "output_type": "stream",
     "text": [
      "22569\n"
     ]
    }
   ],
   "source": [
    "vocab_size = tokenizer.get_vocab_size()\n",
    "print(vocab_size)\n",
    "device='cpu'\n",
    "frac=1\n",
    "BATCH_SIZE=1024\n",
    "LR=0.00001"
   ]
  },
  {
   "cell_type": "code",
   "execution_count": 230,
   "metadata": {},
   "outputs": [],
   "source": [
    "train_dataset = MyDataset(pid_train_df.sample(frac=frac), tokenizer=tokenizer, max_length=max_length)\n",
    "train_loader = DataLoader(train_dataset, batch_size=BATCH_SIZE, shuffle=True)"
   ]
  },
  {
   "cell_type": "code",
   "execution_count": null,
   "metadata": {},
   "outputs": [],
   "source": [
    "model = EHR_PRETRAINING(max_length=400, vocab_size=vocab_size, device=device).to(device)\n",
    "optimizer = optim.Adam(model.parameters(), lr=LR)"
   ]
  },
  {
   "cell_type": "markdown",
   "metadata": {},
   "source": [
    "Tokenization"
   ]
  },
  {
   "cell_type": "code",
   "execution_count": 160,
   "metadata": {},
   "outputs": [
    {
     "name": "stdout",
     "output_type": "stream",
     "text": [
      "tensor([25608940, 26676014, 25229043, 22517940, 20539214, 28675100, 21815284,\n",
      "        22431587, 24259871, 29837158, 23507274, 27676611, 21343164, 20376368,\n",
      "        28143288, 27172224])\n"
     ]
    }
   ],
   "source": [
    "tensor_demo, tensor_diags, tensor_vitals, tensor_labs, tensor_meds, idx = next(iter(train_loader))\n",
    "print(idx)\n",
    "# for idx, (tensor_demo, tensor_diags, tensor_vitals, tensor_labs, tensor_meds, idx) in enumerate(train_dataset):\n",
    "#     print(idx)"
   ]
  },
  {
   "cell_type": "code",
   "execution_count": 13,
   "metadata": {},
   "outputs": [
    {
     "data": {
      "text/plain": [
       "'temp 98 . 8 heartrate 96 . 0 resprate 18 . 0 o2sat 97 . 0 sbp 100 . 0 dbp 59 . 0 rhythm pain 8'"
      ]
     },
     "execution_count": 13,
     "metadata": {},
     "output_type": "execute_result"
    }
   ],
   "source": [
    "i = 1\n",
    "tokenizer.decode(tensor_vitals[i][0].cpu().detach().numpy())"
   ]
  },
  {
   "cell_type": "code",
   "execution_count": 21,
   "metadata": {},
   "outputs": [
    {
     "data": {
      "text/plain": [
       "1"
      ]
     },
     "execution_count": 21,
     "metadata": {},
     "output_type": "execute_result"
    }
   ],
   "source": [
    "a = np.array([0,0,0,0,1,0])\n",
    "idx = np.where(a==1)[0][0]\n",
    "a[idx]"
   ]
  },
  {
   "cell_type": "markdown",
   "metadata": {},
   "source": [
    "## Plot lengths"
   ]
  },
  {
   "cell_type": "code",
   "execution_count": 34,
   "metadata": {},
   "outputs": [],
   "source": [
    "lens_meds = []\n",
    "tokenizer.enable_truncation(500)\n",
    "for tensor_demo, tensor_diags, tensor_vitals, tensor_labs, tensor_meds, idx in train_loader:\n",
    "    for sample in tensor_meds.cpu().detach():\n",
    "        for day in sample:\n",
    "            # print(day)\n",
    "            idx = np.where(day==1)[0][0]\n",
    "            # print(len(day[:idx]))\n",
    "            lens_meds.append(len(day[:idx]))\n"
   ]
  },
  {
   "cell_type": "code",
   "execution_count": 40,
   "metadata": {},
   "outputs": [
    {
     "data": {
      "text/plain": [
       "Text(0, 0.5, 'Num of tensors')"
      ]
     },
     "execution_count": 40,
     "metadata": {},
     "output_type": "execute_result"
    },
    {
     "data": {
      "image/png": "[encoded data removed]",
      "text/plain": [
       "<Figure size 432x288 with 1 Axes>"
      ]
     },
     "metadata": {
      "needs_background": "light"
     },
     "output_type": "display_data"
    }
   ],
   "source": [
    "from matplotlib import pyplot as plt\n",
    "%matplotlib inline\n",
    "\n",
    "plt.hist(lens, density=False, bins=150)\n",
    "plt.ylim(0, 200000)\n",
    "plt.grid()\n",
    "plt.title('Distribution of number of tokens in laboratory results tensors')\n",
    "plt.xlabel('Num of tokens')\n",
    "plt.ylabel('Num of tensors')"
   ]
  },
  {
   "cell_type": "code",
   "execution_count": 39,
   "metadata": {},
   "outputs": [
    {
     "name": "stdout",
     "output_type": "stream",
     "text": [
      "256\n"
     ]
    },
    {
     "data": {
      "text/plain": [
       "Text(0, 0.5, 'Num of tensors')"
      ]
     },
     "execution_count": 39,
     "metadata": {},
     "output_type": "execute_result"
    },
    {
     "data": {
      "image/png": "[encoded data removed]",
      "text/plain": [
       "<Figure size 432x288 with 1 Axes>"
      ]
     },
     "metadata": {
      "needs_background": "light"
     },
     "output_type": "display_data"
    }
   ],
   "source": [
    "from matplotlib import pyplot as plt\n",
    "%matplotlib inline\n",
    "print(np.max(lens_meds))\n",
    "plt.hist(lens_meds, density=False, bins=150)\n",
    "plt.ylim(0, 60000)\n",
    "plt.grid()\n",
    "plt.title('Distribution of number of tokens in medications tensors')\n",
    "plt.xlabel('Num of tokens')\n",
    "plt.ylabel('Num of tensors')"
   ]
  },
  {
   "cell_type": "code",
   "execution_count": 812,
   "metadata": {},
   "outputs": [
    {
     "name": "stdout",
     "output_type": "stream",
     "text": [
      "[  0 478 565  17  26 487 960  17  19 489 280  17  19 488 117  17  19 485\n",
      " 988  17  19 483 326  17  19 475 479   1   2   2   2   2   2   2   2   2\n",
      "   2   2   2   2   2   2   2   2   2   2   2   2   2   2   2   2   2   2\n",
      "   2   2   2   2   2   2   2   2   2   2   2   2   2   2   2   2   2   2\n",
      "   2   2   2   2   2   2   2   2   2   2   2   2   2   2   2   2   2   2\n",
      "   2   2   2   2   2   2   2   2   2   2   2   2   2   2   2   2   2   2\n",
      "   2   2   2   2   2   2   2   2   2   2   2   2   2   2   2   2   2   2\n",
      "   2   2   2   2   2   2   2   2   2   2   2   2   2   2   2   2   2   2\n",
      "   2   2   2   2   2   2   2   2   2   2   2   2   2   2   2   2   2   2\n",
      "   2   2   2   2   2   2   2   2   2   2   2   2   2   2   2   2   2   2\n",
      "   2   2   2   2   2   2   2   2   2   2   2   2   2   2   2   2   2   2\n",
      "   2   2   2   2] ===> temp 97 . 7 heartrate 53 . 0 resprate 18 . 0 o2sat 10 . 0 sbp 129 . 0 dbp 99 . 0 rhythm pain\n",
      "[0 2 1 2 2 2 2 2 2 2 2 2 2 2 2 2 2 2 2 2 2 2 2 2 2 2 2 2 2 2 2 2 2 2 2 2 2\n",
      " 2 2 2 2 2 2 2 2 2 2 2 2 2 2 2 2 2 2 2 2 2 2 2 2 2 2 2 2 2 2 2 2 2 2 2 2 2\n",
      " 2 2 2 2 2 2 2 2 2 2 2 2 2 2 2 2 2 2 2 2 2 2 2 2 2 2 2 2 2 2 2 2 2 2 2 2 2\n",
      " 2 2 2 2 2 2 2 2 2 2 2 2 2 2 2 2 2 2 2 2 2 2 2 2 2 2 2 2 2 2 2 2 2 2 2 2 2\n",
      " 2 2 2 2 2 2 2 2 2 2 2 2 2 2 2 2 2 2 2 2 2 2 2 2 2 2 2 2 2 2 2 2 2 2 2 2 2\n",
      " 2 2 2 2 2 2 2 2 2 2 2 2 2 2 2 2 2] ===> \n",
      "[0 2 1 2 2 2 2 2 2 2 2 2 2 2 2 2 2 2 2 2 2 2 2 2 2 2 2 2 2 2 2 2 2 2 2 2 2\n",
      " 2 2 2 2 2 2 2 2 2 2 2 2 2 2 2 2 2 2 2 2 2 2 2 2 2 2 2 2 2 2 2 2 2 2 2 2 2\n",
      " 2 2 2 2 2 2 2 2 2 2 2 2 2 2 2 2 2 2 2 2 2 2 2 2 2 2 2 2 2 2 2 2 2 2 2 2 2\n",
      " 2 2 2 2 2 2 2 2 2 2 2 2 2 2 2 2 2 2 2 2 2 2 2 2 2 2 2 2 2 2 2 2 2 2 2 2 2\n",
      " 2 2 2 2 2 2 2 2 2 2 2 2 2 2 2 2 2 2 2 2 2 2 2 2 2 2 2 2 2 2 2 2 2 2 2 2 2\n",
      " 2 2 2 2 2 2 2 2 2 2 2 2 2 2 2 2 2] ===> \n",
      "[0 2 1 2 2 2 2 2 2 2 2 2 2 2 2 2 2 2 2 2 2 2 2 2 2 2 2 2 2 2 2 2 2 2 2 2 2\n",
      " 2 2 2 2 2 2 2 2 2 2 2 2 2 2 2 2 2 2 2 2 2 2 2 2 2 2 2 2 2 2 2 2 2 2 2 2 2\n",
      " 2 2 2 2 2 2 2 2 2 2 2 2 2 2 2 2 2 2 2 2 2 2 2 2 2 2 2 2 2 2 2 2 2 2 2 2 2\n",
      " 2 2 2 2 2 2 2 2 2 2 2 2 2 2 2 2 2 2 2 2 2 2 2 2 2 2 2 2 2 2 2 2 2 2 2 2 2\n",
      " 2 2 2 2 2 2 2 2 2 2 2 2 2 2 2 2 2 2 2 2 2 2 2 2 2 2 2 2 2 2 2 2 2 2 2 2 2\n",
      " 2 2 2 2 2 2 2 2 2 2 2 2 2 2 2 2 2] ===> \n",
      "[0 1 2 2 2 2 2 2 2 2 2 2 2 2 2 2 2 2 2 2 2 2 2 2 2 2 2 2 2 2 2 2 2 2 2 2 2\n",
      " 2 2 2 2 2 2 2 2 2 2 2 2 2 2 2 2 2 2 2 2 2 2 2 2 2 2 2 2 2 2 2 2 2 2 2 2 2\n",
      " 2 2 2 2 2 2 2 2 2 2 2 2 2 2 2 2 2 2 2 2 2 2 2 2 2 2 2 2 2 2 2 2 2 2 2 2 2\n",
      " 2 2 2 2 2 2 2 2 2 2 2 2 2 2 2 2 2 2 2 2 2 2 2 2 2 2 2 2 2 2 2 2 2 2 2 2 2\n",
      " 2 2 2 2 2 2 2 2 2 2 2 2 2 2 2 2 2 2 2 2 2 2 2 2 2 2 2 2 2 2 2 2 2 2 2 2 2\n",
      " 2 2 2 2 2 2 2 2 2 2 2 2 2 2 2 2 2] ===> \n"
     ]
    }
   ],
   "source": [
    "for p in tensor_vitals[i]:\n",
    "    print(p.cpu().detach().numpy(), \"===>\", tokenizer.decode(p.cpu().detach().numpy()))"
   ]
  },
  {
   "cell_type": "code",
   "execution_count": 749,
   "metadata": {},
   "outputs": [
    {
     "data": {
      "text/plain": [
       "''"
      ]
     },
     "execution_count": 749,
     "metadata": {},
     "output_type": "execute_result"
    }
   ],
   "source": [
    "day = pid_train_df[pid_train_df.hadm_id==idx[i].item()].previous_diagnoses.values[0]\n",
    "day"
   ]
  },
  {
   "cell_type": "code",
   "execution_count": 733,
   "metadata": {},
   "outputs": [],
   "source": [
    "output = tokenizer.encode(day)"
   ]
  },
  {
   "cell_type": "code",
   "execution_count": 734,
   "metadata": {},
   "outputs": [
    {
     "data": {
      "text/plain": [
       "'de119 db20 de785 di10 dr338'"
      ]
     },
     "execution_count": 734,
     "metadata": {},
     "output_type": "execute_result"
    }
   ],
   "source": [
    "tokenizer.decode(output.ids)"
   ]
  },
  {
   "cell_type": "code",
   "execution_count": 722,
   "metadata": {},
   "outputs": [
    {
     "name": "stdout",
     "output_type": "stream",
     "text": [
      "7\n",
      "[0, 4277, 849, 3387, 828, 3507, 1]\n"
     ]
    }
   ],
   "source": [
    "print(len(output.ids))\n",
    "print(output.ids)"
   ]
  },
  {
   "cell_type": "code",
   "execution_count": 723,
   "metadata": {},
   "outputs": [
    {
     "name": "stdout",
     "output_type": "stream",
     "text": [
      "0 <s>\n",
      "4277 d42843\n",
      "849 d2449\n",
      "3387 d5939\n",
      "828 d4280\n",
      "3507 d4239\n",
      "1 </s>\n"
     ]
    }
   ],
   "source": [
    "for id_ in output.ids:\n",
    "    print(id_, tokenizer.id_to_token(id_))"
   ]
  },
  {
   "cell_type": "code",
   "execution_count": 752,
   "metadata": {},
   "outputs": [
    {
     "name": "stdout",
     "output_type": "stream",
     "text": [
      "5\n"
     ]
    }
   ],
   "source": [
    "print(len(tensor_vitals[i].cpu().detach().numpy()))"
   ]
  },
  {
   "cell_type": "code",
   "execution_count": 753,
   "metadata": {},
   "outputs": [
    {
     "ename": "TypeError",
     "evalue": "only integer scalar arrays can be converted to a scalar index",
     "output_type": "error",
     "traceback": [
      "\u001b[0;31m---------------------------------------------------------------------------\u001b[0m",
      "\u001b[0;31mTypeError\u001b[0m                                 Traceback (most recent call last)",
      "\u001b[0;32m/tmp/ipykernel_1091699/3265823591.py\u001b[0m in \u001b[0;36m<module>\u001b[0;34m\u001b[0m\n\u001b[1;32m      1\u001b[0m \u001b[0;32mfor\u001b[0m \u001b[0mid_\u001b[0m \u001b[0;32min\u001b[0m \u001b[0mtensor_vitals\u001b[0m\u001b[0;34m[\u001b[0m\u001b[0mi\u001b[0m\u001b[0;34m]\u001b[0m\u001b[0;34m.\u001b[0m\u001b[0mcpu\u001b[0m\u001b[0;34m(\u001b[0m\u001b[0;34m)\u001b[0m\u001b[0;34m.\u001b[0m\u001b[0mdetach\u001b[0m\u001b[0;34m(\u001b[0m\u001b[0;34m)\u001b[0m\u001b[0;34m.\u001b[0m\u001b[0mnumpy\u001b[0m\u001b[0;34m(\u001b[0m\u001b[0;34m)\u001b[0m\u001b[0;34m:\u001b[0m\u001b[0;34m\u001b[0m\u001b[0;34m\u001b[0m\u001b[0m\n\u001b[0;32m----> 2\u001b[0;31m     \u001b[0mprint\u001b[0m\u001b[0;34m(\u001b[0m\u001b[0mid_\u001b[0m\u001b[0;34m,\u001b[0m \u001b[0mtokenizer\u001b[0m\u001b[0;34m.\u001b[0m\u001b[0mid_to_token\u001b[0m\u001b[0;34m(\u001b[0m\u001b[0mid_\u001b[0m\u001b[0;34m)\u001b[0m\u001b[0;34m)\u001b[0m\u001b[0;34m\u001b[0m\u001b[0;34m\u001b[0m\u001b[0m\n\u001b[0m",
      "\u001b[0;31mTypeError\u001b[0m: only integer scalar arrays can be converted to a scalar index"
     ]
    }
   ],
   "source": [
    "for id_ in tensor_vitals[i].cpu().detach().numpy():\n",
    "    print(id_, tokenizer.id_to_token(id_))"
   ]
  },
  {
   "cell_type": "code",
   "execution_count": 481,
   "metadata": {},
   "outputs": [
    {
     "data": {
      "text/plain": [
       "'7'"
      ]
     },
     "execution_count": 481,
     "metadata": {},
     "output_type": "execute_result"
    }
   ],
   "source": [
    "tokenizer.id_to_token(24)"
   ]
  },
  {
   "cell_type": "markdown",
   "metadata": {},
   "source": [
    "# Fine-tuning"
   ]
  },
  {
   "cell_type": "markdown",
   "metadata": {},
   "source": [
    "## Utils"
   ]
  },
  {
   "cell_type": "code",
   "execution_count": 9,
   "metadata": {},
   "outputs": [],
   "source": [
    "# Save and Load Functions\n",
    "def save_checkpoint(save_path, model, optimizer, valid_loss):\n",
    "\n",
    "    if save_path == None:\n",
    "        return\n",
    "    \n",
    "    state_dict = {'model_state_dict': model.state_dict(),\n",
    "                  'optimizer_state_dict': optimizer.state_dict(),\n",
    "                  'valid_loss': valid_loss}\n",
    "    \n",
    "    torch.save(state_dict, save_path)\n",
    "    print(f'Model saved to ==> {save_path}')\n",
    "\n",
    "\n",
    "def load_checkpoint(load_path, model, optimizer, device):\n",
    "\n",
    "    if load_path==None:\n",
    "        return\n",
    "    \n",
    "    state_dict = torch.load(load_path, map_location=device)\n",
    "    print(f'Model loaded from <== {load_path}')\n",
    "    \n",
    "    model.load_state_dict(state_dict['model_state_dict'])\n",
    "    optimizer.load_state_dict(state_dict['optimizer_state_dict'])\n",
    "    \n",
    "    return state_dict['valid_loss']\n",
    "\n",
    "\n",
    "def save_metrics(save_path, train_loss_list, valid_loss_list, global_steps_list):\n",
    "\n",
    "    if save_path == None:\n",
    "        return\n",
    "    \n",
    "    state_dict = {'train_loss_list': train_loss_list,\n",
    "                  'valid_loss_list': valid_loss_list,\n",
    "                  'global_steps_list': global_steps_list}\n",
    "    \n",
    "    torch.save(state_dict, save_path)\n",
    "    print(f'Model saved to ==> {save_path}')\n",
    "\n",
    "\n",
    "def load_metrics(load_path):\n",
    "\n",
    "    if load_path==None:\n",
    "        return\n",
    "    \n",
    "    state_dict = torch.load(load_path, map_location=device)\n",
    "    print(f'Model loaded from <== {load_path}')\n",
    "    \n",
    "    return state_dict['train_loss_list'], state_dict['valid_loss_list'], state_dict['global_steps_list']\n",
    "\n",
    "def calculate_class_weights(data_loader):\n",
    "    labels = np.array([])\n",
    "    for tensor_day, tensor_diags, tensor_labels, idx in data_loader:\n",
    "        labels = np.concatenate([labels, tensor_labels], axis=0) if labels.size else tensor_labels\n",
    "    n_pos = np.sum(labels==1, axis=0)\n",
    "    n_neg = np.sum(labels==0, axis=0)\n",
    "    pos_weight = np.round(n_neg / n_pos, 2)\n",
    "    \n",
    "    return pos_weight\n",
    "\n",
    "def get_lr(optimizer):\n",
    "    for param_group in optimizer.param_groups:\n",
    "        return param_group['lr']"
   ]
  },
  {
   "cell_type": "markdown",
   "metadata": {},
   "source": [
    "## Models"
   ]
  },
  {
   "cell_type": "code",
   "execution_count": 8,
   "metadata": {},
   "outputs": [],
   "source": [
    "class EHR_FINETUNING(nn.Module):\n",
    "    def __init__(self, pretrained_model, max_length, vocab_size, device, pred_window=2, observing_window=3,  H=128, embedding_size=200, drop=0.6):\n",
    "        super(EHR_FINETUNING, self).__init__()\n",
    "\n",
    "        self.observing_window = observing_window\n",
    "        self.pred_window = pred_window\n",
    "        self.H = H\n",
    "        self.max_length_demo = max_length['demographics']\n",
    "        self.max_length_diags = max_length['diagnoses']\n",
    "        self.max_length_meds = max_length['medications']\n",
    "        self.max_length_vitals = max_length['vitals']\n",
    "        self.max_length_lab = max_length['lab_tests']\n",
    "        self.embedding_size = embedding_size\n",
    "        self.vocab_size = vocab_size\n",
    "        self.device = device\n",
    "        self.drop = drop\n",
    "\n",
    "        # self.embedding = pretrained_model\n",
    "        self.embedding = pretrained_model.embedding\n",
    "\n",
    "        self.lstm_day = pretrained_model.lstm_day\n",
    "\n",
    "        self.fc_med = pretrained_model.fc_med\n",
    "        self.fc_vitals = pretrained_model.fc_vitals\n",
    "        self.fc_lab = pretrained_model.fc_lab\n",
    "\n",
    "        self.fc_adm = pretrained_model.fc_adm\n",
    "\n",
    "        self.lstm_adm = pretrained_model.lstm_adm\n",
    "\n",
    "        self.drop = nn.Dropout(p=drop)\n",
    "        self.inner_drop = nn.Dropout(p=0.5)\n",
    "\n",
    "        self.fc_2 = nn.Linear(pretrained_model.lstm_adm.hidden_size, 2)\n",
    "\n",
    "    def forward(self, tensor_demo, tensor_diags, tensor_med, tensor_vitals, tensor_labs):\n",
    "\n",
    "        batch_size = tensor_demo.size()[0]\n",
    "\n",
    "        # embeddings\n",
    "        out_emb_diags = self.embedding(tensor_diags.squeeze(1)) # [16, 37, 200]\n",
    "        out_emb_demo =  self.embedding(tensor_demo.squeeze(1))  # [16, 7, 200]\n",
    "        # print(f'out_emb_diags: ', out_emb_diags.size())\n",
    "        # print(f'out_emb_demo: ', out_emb_demo.size())\n",
    "        # lstm for demographic and diagnoses\n",
    "        out_lstm_diags, _ = self.lstm_day(out_emb_diags)    # [16, 37, 256]\n",
    "        out_lstm_demo, _ = self.lstm_day(out_emb_demo)      # [16, 7, 256]\n",
    "        # print(f'out_lstm_diags: ', out_lstm_diags.size())\n",
    "        # print(f'out_lstm_demo: ', out_lstm_demo.size())\n",
    "        # reshape and concat demographics and diags\n",
    "        out_lstm_diags_reshaped = out_lstm_diags.reshape(batch_size, self.max_length_diags * 2 * self.H)\n",
    "        out_lstm_demo_reshaped = out_lstm_demo.reshape(batch_size, self.max_length_demo * 2 * self.H)\n",
    "        # print(f'out_lstm_diags_reshaped', out_lstm_diags_reshaped.size())\n",
    "        # print(f'out_lstm_demo_reshaped', out_lstm_demo_reshaped.size())\n",
    "        full_output = torch.cat([out_lstm_demo_reshaped, out_lstm_diags_reshaped], dim=1)   # [16, 11264]\n",
    "        # print(f'full_output', full_output.size())\n",
    "\n",
    "        for d in range(self.observing_window):\n",
    "            # print('--------------')  \n",
    "            # embedding layer applied to all tensors \n",
    "            out_med_emb = self.embedding(tensor_med[:, d, :].squeeze(1))\n",
    "            out_vitals_emb = self.embedding(tensor_vitals[:, d, :].squeeze(1))\n",
    "            out_labs_emb = self.embedding(tensor_labs[:, d, :].squeeze(1))\n",
    "            # print('out_med_emb', out_med_emb.size())\n",
    "            # print('out_vitals_emb', out_vitals_emb.size())\n",
    "            # print('out_labs_emb', out_labs_emb.size())\n",
    "\n",
    "            # lstm layer applied to embedded tensors\n",
    "            temp = self.lstm_day(out_med_emb)[0]\n",
    "            # print(f'\\nlstm_day(out_med_emb)  {temp.size()} ==> [{batch_size}, {self.max_length_meds * 2 * self.H}]')\n",
    "            temp = temp.reshape(batch_size, self.max_length_meds * 2 * self.H)\n",
    "            output_lstm_med = self.inner_drop(self.fc_med(temp))\n",
    "            # print(f'output_lstm_med {output_lstm_med.size()}')\n",
    "            output_lstm_med = self.inner_drop(self.fc_med(\\\n",
    "                                                self.lstm_day(out_med_emb)[0]\\\n",
    "                                                    .reshape(batch_size, self.max_length_meds * 2 * self.H)))\n",
    "\n",
    "            output_lstm_vitals = self.inner_drop(self.fc_vitals(\\\n",
    "                                                self.lstm_day(out_vitals_emb)[0]\\\n",
    "                                                    .reshape(batch_size, self.max_length_vitals * 2 * self.H)))\n",
    "\n",
    "\n",
    "            output_lstm_labs = self.inner_drop(self.fc_lab(\\\n",
    "                                                self.lstm_day(out_labs_emb)[0]\\\n",
    "                                                    .reshape(batch_size, self.max_length_lab * 2 * self.H)))\n",
    "                         \n",
    "            # concatenate for all * days\n",
    "            full_output = torch.cat((full_output, \\\n",
    "                                        output_lstm_med,\\\n",
    "                                            output_lstm_vitals,\\\n",
    "                                                output_lstm_labs), dim=1) # \n",
    "\n",
    "        # print('--------------')  \n",
    "        # print('full_output size: ', full_output.size(), '\\n')\n",
    "        output = self.fc_adm(full_output)\n",
    "        # print('fc_adm: ', output.size(), '\\n')\n",
    "        output, _ = self.lstm_adm(output)\n",
    "        # print('lstm_adm: ', output.size(), '\\n')\n",
    "        output = self.drop(output)\n",
    "        output = self.fc_2(output)\n",
    "        # print('output after fc_2', output.size())\n",
    "        output = torch.squeeze(output, 1)\n",
    "\n",
    "        return output"
   ]
  },
  {
   "cell_type": "markdown",
   "metadata": {},
   "source": [
    "## Dataset"
   ]
  },
  {
   "cell_type": "code",
   "execution_count": 64,
   "metadata": {},
   "outputs": [],
   "source": [
    "class MyDataset(Dataset):\n",
    "\n",
    "    def __init__(self, df, tokenizer, max_length, pred_window=2, observing_window=3):\n",
    "        self.df = df\n",
    "        self.tokenizer = tokenizer\n",
    "        self.observing_window = observing_window\n",
    "        self.pred_window = pred_window\n",
    "        self.max_length = max_length\n",
    "        # self.max_length_diags = 35\n",
    "\n",
    "        \n",
    "    def __len__(self):\n",
    "        return self.df.shape[0]\n",
    "\n",
    "    def __getitem__(self, idx):\n",
    "\n",
    "        return self.make_matrices(idx)\n",
    "    \n",
    "    def tokenize(self, text, max_length): \n",
    "        \n",
    "        # max_length = max_length + 2\n",
    "        self.tokenizer.enable_truncation(max_length=max_length)\n",
    "\n",
    "        output = self.tokenizer.encode(text)\n",
    "\n",
    "        # padding and truncation\n",
    "        if len(output.ids) < max_length:\n",
    "            len_missing_token = max_length - len(output.ids)\n",
    "            padding_vec = [self.tokenizer.token_to_id('PAD') for _ in range(len_missing_token)]\n",
    "            token_output = [*output.ids, *padding_vec]\n",
    "        elif len(output.ids) > max_length:\n",
    "            token_output = output.ids[:max_length]\n",
    "        else:\n",
    "            token_output = output.ids\n",
    "        \n",
    "        return token_output\n",
    "\n",
    "    def make_matrices(self, idx):\n",
    "        \n",
    "        hadm_id = self.df.hadm_id.values[idx]\n",
    "        diagnoses_info = self.df.previous_diagnoses.values[idx]\n",
    "        demo_info = self.df.demographics_in_visit.values[idx][0]\n",
    "        lab_info = self.df.lab_tests_in_visit.values[idx]\n",
    "        med_info = self.df.medications_in_visit.values[idx]\n",
    "        vitals_info = self.df.vitals_in_visit.values[idx]\n",
    "        \n",
    "        aki_status = self.df.aki_status_in_visit.values[idx]\n",
    "        days = self.df.days.values[idx]\n",
    "        # print(idx)\n",
    "\n",
    "        lab_info_list = []\n",
    "        med_info_list = []\n",
    "        vitals_info_list = []\n",
    "        labels = []\n",
    "        label_24 = None\n",
    "        label_48 = None\n",
    "\n",
    "        for day in range(days[0], days[0] + self.observing_window + self.pred_window):\n",
    "            # print('day', day)\n",
    "            if day not in days:\n",
    "                labels.append(0)\n",
    "                vitals_info_list.append(self.tokenize('', self.max_length['vitals']))\n",
    "                lab_info_list.append(self.tokenize('', self.max_length['lab_tests']))\n",
    "                med_info_list.append(self.tokenize('', self.max_length['medications']))\n",
    "\n",
    "            else:\n",
    "                i = days.index(day)\n",
    "\n",
    "                if np.isfinite(aki_status[i]):                    \n",
    "                    labels.append(aki_status[i])\n",
    "                else:\n",
    "                    labels.append(0)\n",
    "\n",
    "                # vitals\n",
    "                if (str(vitals_info[i]) == 'nan') or (vitals_info[i] == np.nan):\n",
    "                    vitals_info_list.append(self.tokenize('PAD', self.max_length['vitals']))\n",
    "                else:\n",
    "                    vitals_info_list.append(self.tokenize(vitals_info[i], self.max_length['vitals']))\n",
    "\n",
    "                # lab results\n",
    "                if (str(lab_info[i]) == 'nan') or (lab_info[i] == np.nan):\n",
    "                    lab_info_list.append(self.tokenize('PAD', self.max_length['lab_tests']))\n",
    "                else:\n",
    "                    lab_info_list.append(self.tokenize(lab_info[i], self.max_length['lab_tests']))\n",
    "                \n",
    "                # medications\n",
    "                if (str(med_info[i]) == 'nan') or (med_info[i] == np.nan):\n",
    "                    med_info_list.append(self.tokenize('PAD', self.max_length['medications']))\n",
    "                else:\n",
    "                    med_info_list.append(self.tokenize(med_info[i], self.max_length['medications']))\n",
    "\n",
    "        # diagnoses\n",
    "        if (str(diagnoses_info) == 'nan') or (diagnoses_info == np.nan):\n",
    "            diagnoses_info = self.tokenize('PAD', self.max_length['diagnoses'])\n",
    "        else:\n",
    "            diagnoses_info = self.tokenize(diagnoses_info, self.max_length['diagnoses'])\n",
    "\n",
    "        # demographics\n",
    "        if (str(demo_info) == 'nan') or (demo_info == np.nan):\n",
    "            demo_info = self.tokenize('PAD', self.max_length_diags)\n",
    "        else:\n",
    "            demo_info = self.tokenize(demo_info, self.max_length['demographics'])\n",
    "\n",
    "        # get labels for 48h\n",
    "\n",
    "        # get labels for 24h\n",
    "        label_24 = labels[-self.pred_window]\n",
    "        if sum(labels[-self.pred_window:]) > 0:\n",
    "            label_48 = 1\n",
    "        else:\n",
    "            label_48 = 0\n",
    "        \n",
    "        #make tensors\n",
    "        tensor_demo = torch.tensor(demo_info, dtype=torch.int64)\n",
    "        tensor_diags = torch.tensor(diagnoses_info, dtype=torch.int64)\n",
    "        tensor_vitals = torch.tensor(vitals_info_list, dtype=torch.int64)\n",
    "        tensor_labs = torch.tensor(lab_info_list, dtype=torch.int64)\n",
    "        tensor_meds = torch.tensor(med_info_list, dtype=torch.int64)\n",
    "        tensor_labels = torch.tensor([label_24, label_48], dtype=torch.float64)\n",
    "    \n",
    "        return (tensor_demo, tensor_diags, tensor_vitals, tensor_labs, tensor_meds), hadm_id, tensor_labels"
   ]
  },
  {
   "cell_type": "code",
   "execution_count": 28,
   "metadata": {},
   "outputs": [],
   "source": [
    "(tensor_demo, tensor_diags, tensor_vitals, tensor_labs, tensor_meds), hadm_id, tensor_labels = next(iter(test_loader))\n"
   ]
  },
  {
   "cell_type": "code",
   "execution_count": null,
   "metadata": {},
   "outputs": [],
   "source": [
    "tensor_labels"
   ]
  },
  {
   "cell_type": "markdown",
   "metadata": {},
   "source": [
    "### Dataset check"
   ]
  },
  {
   "cell_type": "code",
   "execution_count": 13,
   "metadata": {},
   "outputs": [
    {
     "data": {
      "text/html": [
       "<div>\n",
       "<style scoped>\n",
       "    .dataframe tbody tr th:only-of-type {\n",
       "        vertical-align: middle;\n",
       "    }\n",
       "\n",
       "    .dataframe tbody tr th {\n",
       "        vertical-align: top;\n",
       "    }\n",
       "\n",
       "    .dataframe thead th {\n",
       "        text-align: right;\n",
       "    }\n",
       "</style>\n",
       "<table border=\"1\" class=\"dataframe\">\n",
       "  <thead>\n",
       "    <tr style=\"text-align: right;\">\n",
       "      <th></th>\n",
       "      <th>subject_id</th>\n",
       "      <th>hadm_id</th>\n",
       "      <th>demographics_in_visit</th>\n",
       "      <th>lab_tests_in_visit</th>\n",
       "      <th>medications_in_visit</th>\n",
       "      <th>vitals_in_visit</th>\n",
       "      <th>days_in_visit</th>\n",
       "      <th>aki_status_in_visit</th>\n",
       "      <th>previous_diagnoses</th>\n",
       "      <th>days</th>\n",
       "    </tr>\n",
       "  </thead>\n",
       "  <tbody>\n",
       "    <tr>\n",
       "      <th>9</th>\n",
       "      <td>16679562</td>\n",
       "      <td>20001395</td>\n",
       "      <td>[hispanic latino m 73, hispanic latino m 73, h...</td>\n",
       "      <td>[hematology blood hematocrit  51.2  %; hematol...</td>\n",
       "      <td>[influenza vaccine quadrivalent  0.5  ml ; bis...</td>\n",
       "      <td>[temp    heartrate  80.0  resprate  16.0  o2sa...</td>\n",
       "      <td>[hispanic latino m 73$temp    heartrate  80.0 ...</td>\n",
       "      <td>[0, 0, 0, 1, 1, 0, 0, 1, 0]</td>\n",
       "      <td></td>\n",
       "      <td>[0, 1, 2, 3, 4, 5, 6, 7, 8]</td>\n",
       "    </tr>\n",
       "  </tbody>\n",
       "</table>\n",
       "</div>"
      ],
      "text/plain": [
       "   subject_id   hadm_id                              demographics_in_visit  \\\n",
       "9    16679562  20001395  [hispanic latino m 73, hispanic latino m 73, h...   \n",
       "\n",
       "                                  lab_tests_in_visit  \\\n",
       "9  [hematology blood hematocrit  51.2  %; hematol...   \n",
       "\n",
       "                                medications_in_visit  \\\n",
       "9  [influenza vaccine quadrivalent  0.5  ml ; bis...   \n",
       "\n",
       "                                     vitals_in_visit  \\\n",
       "9  [temp    heartrate  80.0  resprate  16.0  o2sa...   \n",
       "\n",
       "                                       days_in_visit  \\\n",
       "9  [hispanic latino m 73$temp    heartrate  80.0 ...   \n",
       "\n",
       "           aki_status_in_visit previous_diagnoses                         days  \n",
       "9  [0, 0, 0, 1, 1, 0, 0, 1, 0]                     [0, 1, 2, 3, 4, 5, 6, 7, 8]  "
      ]
     },
     "execution_count": 13,
     "metadata": {},
     "output_type": "execute_result"
    }
   ],
   "source": [
    "with open('/home/svetlana.maslenkova/LSTM/dataframes/pid_train_df_finetuning_6days_aki.pkl', 'rb') as f:\n",
    "    pid_train_df = pickle.load(f)\n",
    "\n",
    "with open('/home/svetlana.maslenkova/LSTM/dataframes/pid_test_df_finetuning_6days_aki.pkl', 'rb') as f:\n",
    "    pid_test_df = pickle.load(f)\n",
    "\n",
    "pid_train_df.head(1)"
   ]
  },
  {
   "cell_type": "code",
   "execution_count": 34,
   "metadata": {},
   "outputs": [],
   "source": [
    "BATCH_SIZE = 16\n",
    "frac=1\n",
    "train_dataset = MyDataset(pid_train_df.sample(frac=frac), tokenizer=tokenizer, max_length=max_length)\n",
    "train_loader = DataLoader(train_dataset, batch_size=BATCH_SIZE, shuffle=True)\n",
    "\n",
    "test_dataset = MyDataset(pid_test_df.sample(frac=frac), tokenizer=tokenizer, max_length=max_length)\n",
    "test_loader = DataLoader(test_dataset, batch_size=BATCH_SIZE, shuffle=True)"
   ]
  },
  {
   "cell_type": "code",
   "execution_count": 16,
   "metadata": {},
   "outputs": [
    {
     "data": {
      "text/plain": [
       "1755"
      ]
     },
     "execution_count": 16,
     "metadata": {},
     "output_type": "execute_result"
    }
   ],
   "source": [
    "len(test_dataset)"
   ]
  },
  {
   "cell_type": "code",
   "execution_count": 45,
   "metadata": {},
   "outputs": [],
   "source": [
    "(tensor_demo, tensor_diags, tensor_vitals, tensor_labs, tensor_meds), hadm_id, tensor_labels = next(iter(train_loader))"
   ]
  },
  {
   "cell_type": "code",
   "execution_count": 46,
   "metadata": {},
   "outputs": [
    {
     "name": "stdout",
     "output_type": "stream",
     "text": [
      "0 : (27380510, array([1., 1.]))\n",
      "1 : (22132103, array([0., 0.]))\n",
      "2 : (28381869, array([0., 0.]))\n",
      "3 : (20853656, array([1., 1.]))\n",
      "4 : (23652398, array([0., 0.]))\n",
      "5 : (27668515, array([0., 0.]))\n",
      "6 : (22928509, array([1., 1.]))\n",
      "7 : (25748555, array([0., 0.]))\n",
      "8 : (22169742, array([0., 0.]))\n",
      "9 : (25569065, array([1., 1.]))\n",
      "10 : (27512939, array([0., 0.]))\n",
      "11 : (21164517, array([0., 0.]))\n",
      "12 : (24279583, array([1., 1.]))\n",
      "13 : (24635431, array([1., 1.]))\n",
      "14 : (27483857, array([0., 0.]))\n",
      "15 : (29877900, array([1., 1.]))\n"
     ]
    }
   ],
   "source": [
    "for i, v in enumerate(zip(hadm_id.cpu().detach().numpy(), tensor_labels.cpu().detach().numpy())):\n",
    "    print(i,':', v)"
   ]
  },
  {
   "cell_type": "code",
   "execution_count": 48,
   "metadata": {},
   "outputs": [
    {
     "data": {
      "text/html": [
       "<div>\n",
       "<style scoped>\n",
       "    .dataframe tbody tr th:only-of-type {\n",
       "        vertical-align: middle;\n",
       "    }\n",
       "\n",
       "    .dataframe tbody tr th {\n",
       "        vertical-align: top;\n",
       "    }\n",
       "\n",
       "    .dataframe thead th {\n",
       "        text-align: right;\n",
       "    }\n",
       "</style>\n",
       "<table border=\"1\" class=\"dataframe\">\n",
       "  <thead>\n",
       "    <tr style=\"text-align: right;\">\n",
       "      <th></th>\n",
       "      <th>subject_id</th>\n",
       "      <th>hadm_id</th>\n",
       "      <th>demographics_in_visit</th>\n",
       "      <th>lab_tests_in_visit</th>\n",
       "      <th>medications_in_visit</th>\n",
       "      <th>vitals_in_visit</th>\n",
       "      <th>days_in_visit</th>\n",
       "      <th>aki_status_in_visit</th>\n",
       "      <th>previous_diagnoses</th>\n",
       "      <th>days</th>\n",
       "    </tr>\n",
       "  </thead>\n",
       "  <tbody>\n",
       "    <tr>\n",
       "      <th>28</th>\n",
       "      <td>10995547</td>\n",
       "      <td>20003740</td>\n",
       "      <td>[white m 69, white m 69, white m 69, white m 6...</td>\n",
       "      <td>[hematology blood hematocrit  30.9  %; hematol...</td>\n",
       "      <td>[lansoprazole oral disintegrating tab  30  mg ...</td>\n",
       "      <td>[nan, nan, nan, nan, nan, nan, nan, nan, nan, ...</td>\n",
       "      <td>[white m 69$nan$hematology blood hematocrit  3...</td>\n",
       "      <td>[0, 0, 0, 0, 1, 1, 1, 1, 1, 1, 0, 0, 0, 0, 0]</td>\n",
       "      <td>D51919 D2639 D30000 DV4986 DE915 DV1582 D9351 ...</td>\n",
       "      <td>[0, 1, 2, 3, 4, 5, 6, 7, 8, 9, 10, 11, 12, 13,...</td>\n",
       "    </tr>\n",
       "  </tbody>\n",
       "</table>\n",
       "</div>"
      ],
      "text/plain": [
       "    subject_id   hadm_id                              demographics_in_visit  \\\n",
       "28    10995547  20003740  [white m 69, white m 69, white m 69, white m 6...   \n",
       "\n",
       "                                   lab_tests_in_visit  \\\n",
       "28  [hematology blood hematocrit  30.9  %; hematol...   \n",
       "\n",
       "                                 medications_in_visit  \\\n",
       "28  [lansoprazole oral disintegrating tab  30  mg ...   \n",
       "\n",
       "                                      vitals_in_visit  \\\n",
       "28  [nan, nan, nan, nan, nan, nan, nan, nan, nan, ...   \n",
       "\n",
       "                                        days_in_visit  \\\n",
       "28  [white m 69$nan$hematology blood hematocrit  3...   \n",
       "\n",
       "                              aki_status_in_visit  \\\n",
       "28  [0, 0, 0, 0, 1, 1, 1, 1, 1, 1, 0, 0, 0, 0, 0]   \n",
       "\n",
       "                                   previous_diagnoses  \\\n",
       "28  D51919 D2639 D30000 DV4986 DE915 DV1582 D9351 ...   \n",
       "\n",
       "                                                 days  \n",
       "28  [0, 1, 2, 3, 4, 5, 6, 7, 8, 9, 10, 11, 12, 13,...  "
      ]
     },
     "execution_count": 48,
     "metadata": {},
     "output_type": "execute_result"
    }
   ],
   "source": [
    "pid_train_df[pid_train_df.hadm_id==20003740]"
   ]
  },
  {
   "cell_type": "code",
   "execution_count": 62,
   "metadata": {},
   "outputs": [],
   "source": [
    "mock_dataset = MyDataset(pid_train_df[pid_train_df.hadm_id==20003740], tokenizer=tokenizer, max_length=max_length)"
   ]
  },
  {
   "cell_type": "code",
   "execution_count": 63,
   "metadata": {},
   "outputs": [
    {
     "name": "stdout",
     "output_type": "stream",
     "text": [
      "labels [0, 0, 0, 0, 1]\n",
      "label_24 0\n",
      "label48 1\n"
     ]
    },
    {
     "data": {
      "text/plain": [
       "((tensor([  0, 241,  51, 549,   1,   2,   2]),\n",
       "  tensor([   0, 2636, 1793,  914, 1714, 5619,  745, 9614, 3656, 3040, 5520, 1346,\n",
       "          2301, 6817, 8868, 3321, 5520,  745, 2207, 1337, 8868, 2636, 2435,    1,\n",
       "             2,    2,    2,    2,    2,    2,    2,    2,    2,    2,    2,    2,\n",
       "             2]),\n",
       "  tensor([[0, 2, 1, 2, 2, 2, 2, 2, 2, 2, 2, 2, 2, 2, 2, 2, 2, 2, 2, 2, 2, 2, 2, 2,\n",
       "           2, 2, 2, 2, 2, 2, 2, 2, 2],\n",
       "          [0, 2, 1, 2, 2, 2, 2, 2, 2, 2, 2, 2, 2, 2, 2, 2, 2, 2, 2, 2, 2, 2, 2, 2,\n",
       "           2, 2, 2, 2, 2, 2, 2, 2, 2],\n",
       "          [0, 2, 1, 2, 2, 2, 2, 2, 2, 2, 2, 2, 2, 2, 2, 2, 2, 2, 2, 2, 2, 2, 2, 2,\n",
       "           2, 2, 2, 2, 2, 2, 2, 2, 2],\n",
       "          [0, 2, 1, 2, 2, 2, 2, 2, 2, 2, 2, 2, 2, 2, 2, 2, 2, 2, 2, 2, 2, 2, 2, 2,\n",
       "           2, 2, 2, 2, 2, 2, 2, 2, 2],\n",
       "          [0, 2, 1, 2, 2, 2, 2, 2, 2, 2, 2, 2, 2, 2, 2, 2, 2, 2, 2, 2, 2, 2, 2, 2,\n",
       "           2, 2, 2, 2, 2, 2, 2, 2, 2]]),\n",
       "  tensor([[  0, 104,  79,  ...,   2,   2,   2],\n",
       "          [  0, 104,  79,  ...,   2,   2,   2],\n",
       "          [  0, 104,  79,  ...,   2,   2,   2],\n",
       "          [  0, 104,  79,  ...,   2,   2,   2],\n",
       "          [  0, 104,  79,  ...,   2,   2,   2]]),\n",
       "  tensor([[   0, 1343,  514,  ...,    2,    2,    2],\n",
       "          [   0, 1343,  514,  ...,    2,    2,    2],\n",
       "          [   0, 1343,  514,  ...,    2,    2,    2],\n",
       "          [   0, 1343,  514,  ...,    2,    2,    2],\n",
       "          [   0, 1343,  514,  ...,    2,    2,    2]])),\n",
       " 20003740,\n",
       " tensor([0., 1.], dtype=torch.float64))"
      ]
     },
     "execution_count": 63,
     "metadata": {},
     "output_type": "execute_result"
    }
   ],
   "source": [
    "mock_dataset.__getitem__(0)"
   ]
  },
  {
   "cell_type": "markdown",
   "metadata": {},
   "source": [
    "## Evaluation "
   ]
  },
  {
   "cell_type": "code",
   "execution_count": 26,
   "metadata": {},
   "outputs": [],
   "source": [
    "from sklearn.metrics import classification_report, precision_recall_curve, auc, roc_auc_score, accuracy_score, f1_score, recall_score, precision_score, confusion_matrix\n",
    "\n",
    "def evaluate(model, test_loader, device, threshold=None, log_res=True):\n",
    "    print('Evaluation..')\n",
    "    def find_nearest(array, value):\n",
    "        array = np.asarray(array)\n",
    "        idx = (np.abs(array - value)).argmin()\n",
    "        return idx\n",
    "\n",
    "    device = 'cpu'\n",
    "    model = model.to(device)\n",
    "    stacked_labels = torch.tensor([]).to(device)\n",
    "    stacked_probs = torch.tensor([]).to(device)\n",
    "    \n",
    "    model.eval()\n",
    "    step = 1\n",
    "    with torch.no_grad():\n",
    "        for (tensor_demo, tensor_diags, tensor_vitals, tensor_labs, tensor_meds), hadm_id, tensor_labels in test_loader:\n",
    "            print(f'Step {step}/{len(test_loader)}' )\n",
    "            labels = tensor_labels.to(device)\n",
    "            tensor_demo = tensor_demo.to(device)\n",
    "            tensor_diags = tensor_diags.to(device)\n",
    "            tensor_vitals = tensor_vitals.to(device)\n",
    "            tensor_labs = tensor_labs.to(device)\n",
    "            tensor_meds = tensor_meds.to(device)\n",
    "\n",
    "            probs = model(tensor_demo.to(device), tensor_diags.to(device), tensor_meds.to(device), \\\n",
    "                                tensor_vitals.to(device), tensor_labs.to(device))\n",
    "            probs = nn.Sigmoid()(probs)\n",
    "            # output = (probs > threshold).int()\n",
    "\n",
    "            # stacking labels and predictions\n",
    "            stacked_labels = torch.cat([stacked_labels, labels], dim=0, )\n",
    "            # stacked_preds = torch.cat([stacked_preds, output], dim=0, )\n",
    "            stacked_probs = torch.cat([stacked_probs, probs], dim=0, )\n",
    "            step += 1\n",
    "            \n",
    "    # transfer to device\n",
    "    stacked_labels = stacked_labels.cpu().detach().numpy()\n",
    "    stacked_probs = stacked_probs.cpu().detach().numpy()\n",
    "\n",
    "    if threshold==None:\n",
    "        for w in range(stacked_labels.ndim):\n",
    "            pred_window = (w+1)*24\n",
    "\n",
    "            precision, recall, thresholds = precision_recall_curve(stacked_labels.T[w], stacked_probs.T[w])\n",
    "            precision, recall, thresholds = np.round(precision, 2), np.round(recall,2), np.round(thresholds,2)\n",
    "            \n",
    "            # convert to f score\n",
    "            fscore = np.round((2 * precision * recall) / (precision + recall), 2)\n",
    "\n",
    "            # locate the index of the largest f score\n",
    "            ix = np.argmax(np.nan_to_num(fscore))\n",
    "            threshold = np.round(thresholds[ix], 2)\n",
    "            print('--------------- ', str(pred_window)+'h', '--------------- ')\n",
    "            print('Best Threshold=%.2f, F-Score=%.2f' % (threshold, fscore[ix]))\n",
    "\n",
    "            stacked_preds = (stacked_probs.T[w] > threshold).astype(int)\n",
    "            y_true = stacked_labels.T[0]\n",
    "            y_pred = stacked_preds\n",
    "\n",
    "            accuracy = np.round(accuracy_score(y_true, y_pred), 2)\n",
    "            print(f'Accuracy: {accuracy}')\n",
    "\n",
    "            f1_score_ = np.round(f1_score(y_true, y_pred, pos_label=1, average='binary', zero_division=0), 2)\n",
    "            print(f'F1: ', f1_score_)\n",
    "\n",
    "            recall_score_ = np.round(recall_score(y_true, y_pred, pos_label=1, average='binary', zero_division=0), 2)\n",
    "            print(f'Sensitivity: ', recall_score_)\n",
    "\n",
    "            precision_score_ = np.round(precision_score(y_true, y_pred, pos_label=1, average='binary', zero_division=0), 2)\n",
    "            print(f'Precision: ', precision_score_)\n",
    "\n",
    "            tn, fp, fn, tp = confusion_matrix(y_true, y_pred).ravel()\n",
    "            specificity =  np.round(tn / (tn + fp), 2)\n",
    "            print(f'Specificity: ', specificity)\n",
    "\n",
    "            pr_auc = np.round(auc(recall, precision), 2) \n",
    "            print(f'PR AUC: ', pr_auc)\n",
    "\n",
    "            roc_auc = np.round(roc_auc_score(y_true, y_pred), 2)\n",
    "            print(f'ROC AUC: ', roc_auc)\n",
    "\n",
    "            precision_list = [0.2, 0.25, 0.33, 0.4, 0.5, 0.6, 0.75]\n",
    "            for p in precision_list:\n",
    "                idx = find_nearest(precision, p)\n",
    "                sensitivity = recall[idx]\n",
    "                print(f'Precision {np.round(precision[idx]*100, 1)}% , Sensitivity {sensitivity} ')\n",
    "\n",
    "            print(f'Confusion matrix:\\n', confusion_matrix(y_true, y_pred))\n",
    "\n",
    "\n",
    "            if log_res:\n",
    "                wandb.log({'test_accuracy'+str(pred_window) :accuracy, 'test_f1_score'+str(pred_window):f1_score_, \\\n",
    "                            'test_recall_score'+str(pred_window):recall_score_, 'test_precision_score'+str(pred_window):precision_score_, \\\n",
    "                                'test_specificity'+str(pred_window):specificity})\n",
    "\n",
    "            # get classification metrics for all samples in the test set\n",
    "            classification_report_res = classification_report(y_true, y_pred, zero_division=0, output_dict=True)\n",
    "            print(classification_report(y_true, y_pred, zero_division=0, output_dict=False))\n",
    "\n",
    "    return \n"
   ]
  },
  {
   "cell_type": "code",
   "execution_count": 18,
   "metadata": {},
   "outputs": [],
   "source": [
    "pretrained_model = EHR_PRETRAINING(max_length=max_length, vocab_size=vocab_size, device=device, pred_window=2, observing_window=3,  H=128, embedding_size=200, drop=0.6)\n",
    "ft_model = EHR_FINETUNING(pretrained_model, max_length, vocab_size, device)"
   ]
  },
  {
   "cell_type": "code",
   "execution_count": 338,
   "metadata": {},
   "outputs": [],
   "source": [
    "probs = ft_model(tensor_demo.to(device), tensor_diags.to(device), tensor_meds.to(device), \\\n",
    "                                tensor_vitals.to(device), tensor_labs.to(device))\n",
    "probs = nn.Sigmoid()(probs)"
   ]
  },
  {
   "cell_type": "code",
   "execution_count": 307,
   "metadata": {},
   "outputs": [],
   "source": [
    "stacked_labels = tensor_labels.cpu().detach().numpy()\n",
    "stacked_probs = probs.cpu().detach().numpy()"
   ]
  },
  {
   "cell_type": "code",
   "execution_count": 334,
   "metadata": {},
   "outputs": [
    {
     "name": "stdout",
     "output_type": "stream",
     "text": [
      "Best 24h Threshold=0.47, F-Score=0.53\n",
      "Best 48h Threshold=0.48, F-Score=0.53\n"
     ]
    },
    {
     "name": "stderr",
     "output_type": "stream",
     "text": [
      "/home/svetlana.maslenkova/conda_envs/torch/lib/python3.7/site-packages/ipykernel_launcher.py:6: RuntimeWarning: invalid value encountered in true_divide\n",
      "  \n"
     ]
    }
   ],
   "source": [
    "precision24, recall24, thresholds24 = precision_recall_curve(stacked_labels.T[0], stacked_probs.T[0])\n",
    "precision48, recall48, thresholds48 = precision_recall_curve(stacked_labels.T[1], stacked_probs.T[1])\n",
    "\n",
    "# convert to f score\n",
    "fscore24 = np.round((2 * precision24 * recall24) / (precision24 + recall24), 2)\n",
    "fscore48 = np.round((2 * precision48 * recall48) / (precision48 + recall48), 2)\n",
    "\n",
    "# locate the index of the largest f score\n",
    "ix24 = np.argmax(np.nan_to_num(fscore24))\n",
    "threshold24 = np.round(thresholds24[ix24], 2)\n",
    "print('Best 24h Threshold=%.2f, F-Score=%.2f' % (threshold24, fscore24[ix24]))\n",
    "\n",
    "ix48 = np.argmax(np.nan_to_num(fscore48))\n",
    "threshold48 = np.round(thresholds48[ix48], 2)\n",
    "print('Best 48h Threshold=%.2f, F-Score=%.2f' % (threshold48, fscore48[ix48]))"
   ]
  },
  {
   "cell_type": "code",
   "execution_count": 25,
   "metadata": {},
   "outputs": [
    {
     "name": "stdout",
     "output_type": "stream",
     "text": [
      "Evaluation..\n",
      "Step 1/4\n",
      "Step 2/4\n",
      "Step 3/4\n",
      "Step 4/4\n",
      "---------------  24h --------------- \n",
      "Best Threshold=0.51, F-Score=0.54\n",
      "Accuracy: 0.38\n",
      "F1:  0.54\n",
      "Sensitivity:  0.98\n",
      "Precision:  0.37\n",
      "Specificity:  0.03\n",
      "PR AUC:  0.3658\n",
      "ROC AUC:  0.5012357305856555\n",
      "Precision 27.0% , Sensitivity 0.03 \n",
      "Precision 27.0% , Sensitivity 0.03 \n",
      "Precision 33.0% , Sensitivity 0.09 \n",
      "Precision 40.0% , Sensitivity 0.03 \n",
      "Precision 50.0% , Sensitivity 0.01 \n",
      "Precision 50.0% , Sensitivity 0.01 \n",
      "Precision 50.0% , Sensitivity 0.01 \n",
      "Confusion matrix:\n",
      " [[  30 1076]\n",
      " [  16  633]]\n",
      "              precision    recall  f1-score   support\n",
      "\n",
      "         0.0       0.65      0.03      0.05      1106\n",
      "         1.0       0.37      0.98      0.54       649\n",
      "\n",
      "    accuracy                           0.38      1755\n",
      "   macro avg       0.51      0.50      0.29      1755\n",
      "weighted avg       0.55      0.38      0.23      1755\n",
      "\n",
      "---------------  48h --------------- \n",
      "Best Threshold=0.51, F-Score=0.54\n",
      "Accuracy: 0.37\n",
      "F1:  0.54\n",
      "Sensitivity:  1.0\n",
      "Precision:  0.37\n",
      "Specificity:  0.0\n",
      "PR AUC:  0.382\n",
      "ROC AUC:  0.4981408314920437\n",
      "Precision 20.0% , Sensitivity 0.0 \n",
      "Precision 29.0% , Sensitivity 0.0 \n",
      "Precision 33.0% , Sensitivity 0.01 \n",
      "Precision 40.0% , Sensitivity 0.38 \n",
      "Precision 50.0% , Sensitivity 0.03 \n",
      "Precision 54.0% , Sensitivity 0.02 \n",
      "Precision 54.0% , Sensitivity 0.02 \n",
      "Confusion matrix:\n",
      " [[   1 1105]\n",
      " [   3  646]]\n",
      "              precision    recall  f1-score   support\n",
      "\n",
      "         0.0       0.25      0.00      0.00      1106\n",
      "         1.0       0.37      1.00      0.54       649\n",
      "\n",
      "    accuracy                           0.37      1755\n",
      "   macro avg       0.31      0.50      0.27      1755\n",
      "weighted avg       0.29      0.37      0.20      1755\n",
      "\n"
     ]
    },
    {
     "name": "stderr",
     "output_type": "stream",
     "text": [
      "/home/svetlana.maslenkova/conda_envs/torch/lib/python3.7/site-packages/ipykernel_launcher.py:50: RuntimeWarning: invalid value encountered in true_divide\n"
     ]
    }
   ],
   "source": [
    "evaluate(ft_model, test_loader, device, threshold=None, log_res=False)"
   ]
  }
 ],
 "metadata": {
  "kernelspec": {
   "display_name": "Python 3.7.13",
   "language": "python",
   "name": "python3"
  },
  "language_info": {
   "codemirror_mode": {
    "name": "ipython",
    "version": 3
   },
   "file_extension": ".py",
   "mimetype": "text/x-python",
   "name": "python",
   "nbconvert_exporter": "python",
   "pygments_lexer": "ipython3",
   "version": "3.7.13"
  },
  "orig_nbformat": 4,
  "vscode": {
   "interpreter": {
    "hash": "f41d6bb73514239eeae9d84db1aabfbecf43feae35a358a827a9ce792198f6fa"
   }
  }
 },
 "nbformat": 4,
 "nbformat_minor": 2
}
